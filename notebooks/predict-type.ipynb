{
 "cells": [
  {
   "cell_type": "code",
   "execution_count": 1,
   "metadata": {},
   "outputs": [],
   "source": [
    "import pandas as pd\n",
    "import fasttext\n",
    "import preprocessor"
   ]
  },
  {
   "cell_type": "markdown",
   "metadata": {},
   "source": [
    "#### load labeled data"
   ]
  },
  {
   "cell_type": "code",
   "execution_count": 2,
   "metadata": {},
   "outputs": [],
   "source": [
    "y_df = pd.read_csv('tweets_labeled.csv', index_col='id', sep=\"|\")"
   ]
  },
  {
   "cell_type": "markdown",
   "metadata": {},
   "source": [
    "#### create text file (in fast text format) with labeled tweets"
   ]
  },
  {
   "cell_type": "code",
   "execution_count": 3,
   "metadata": {},
   "outputs": [
    {
     "data": {
      "text/plain": [
       "1298"
      ]
     },
     "execution_count": 3,
     "metadata": {},
     "output_type": "execute_result"
    }
   ],
   "source": [
    "l_df = y_df[['tweet', 'label']]\n",
    "l_df = l_df[l_df['label'].notnull()]\n",
    "len(l_df)"
   ]
  },
  {
   "cell_type": "code",
   "execution_count": 4,
   "metadata": {},
   "outputs": [],
   "source": [
    "label_prefix = '__label__'\n",
    "with open('labeled_tweets.txt', 'w') as file:\n",
    "    for index, row in l_df.iterrows():\n",
    "        file.write(label_prefix + row['label'] + ' ')\n",
    "        file.write(row['tweet'].replace('\\n', ' '))\n",
    "        file.write('\\n')\n",
    "\n",
    "with open('l_ids.txt', 'w') as file:\n",
    "    for index, row in l_df.iterrows():\n",
    "        file.write(str(index))\n",
    "        file.write('\\n')"
   ]
  },
  {
   "cell_type": "markdown",
   "metadata": {},
   "source": [
    "#### create text file with tweets without labels"
   ]
  },
  {
   "cell_type": "code",
   "execution_count": 5,
   "metadata": {},
   "outputs": [],
   "source": [
    "with open('unlabeled_tweets.txt', 'w') as file:\n",
    "    for index, row in y_df.iterrows():\n",
    "        file.write(row['tweet'].replace('\\n', ' '))\n",
    "        file.write('\\n')\n",
    "        \n",
    "with open('u_ids.txt', 'w') as file:\n",
    "    for index, row in y_df.iterrows():\n",
    "        file.write(str(index))\n",
    "        file.write('\\n')"
   ]
  },
  {
   "cell_type": "markdown",
   "metadata": {},
   "source": [
    "#### train model on all data"
   ]
  },
  {
   "cell_type": "code",
   "execution_count": 6,
   "metadata": {},
   "outputs": [],
   "source": [
    " model = fasttext.train_supervised(input=\"labeled_tweets.txt\", epoch=25, lr=1.0, wordNgrams=2)"
   ]
  },
  {
   "cell_type": "markdown",
   "metadata": {},
   "source": [
    "#### get example unlabeled tweets and predict their types"
   ]
  },
  {
   "cell_type": "code",
   "execution_count": 7,
   "metadata": {},
   "outputs": [
    {
     "name": "stdout",
     "output_type": "stream",
     "text": [
      "#AlertMPK - #TRAM Brak przejazdu ul. Nowowiejska/Jedności Narodowej - wypadek bez udziału pojazdów MPK. Tramwaje linii 0L, 0P, 1 skierowano przez ul. Słowiańską, Jedności Narodowej, pl. Bema, Sienkiewicza, Piastowską w obu kierunkach. Uruchomiono autobusy \"za tramwaj\".\n",
      "\n",
      "#AlertMPK ul. Olszewskiego - ruch przywrócony. Tramwaje wracają na swoje stałe trasy.\n",
      "\n",
      "#AlertMPK - #TRAM Brak przejazdu ul. Olszewskiego/Kopernika - samochód na torowisku. Tramwaje linii 1, 2, 4, 10 skierowano objazdem w obu kierunkach przez ul. Mickiewicza do Sępolna.\n",
      "\n",
      "#AlertMPK Brak przejazdu ul. Skargi w kieunku Dworca Głównego - awaria tramwaju.Tramwaje linii 2, 5, 8, 9, 11 skierowano objazdem.\n",
      "\n"
     ]
    }
   ],
   "source": [
    "tweet1 = y_df['tweet'].iloc[2000]\n",
    "print(tweet1)\n",
    "print()\n",
    "\n",
    "tweet2 = y_df['tweet'].iloc[2001]\n",
    "print(tweet2)\n",
    "print()\n",
    "\n",
    "tweet3 = y_df['tweet'].iloc[2002]\n",
    "print(tweet3)\n",
    "print()\n",
    "\n",
    "tweet4 = y_df['tweet'].iloc[2003]\n",
    "print(tweet4)\n",
    "print()"
   ]
  },
  {
   "cell_type": "code",
   "execution_count": 8,
   "metadata": {},
   "outputs": [
    {
     "data": {
      "text/plain": [
       "(('__label__accident',\n",
       "  '__label__event',\n",
       "  '__label__incident',\n",
       "  '__label__renovation',\n",
       "  '__label__unknown'),\n",
       " array([9.97058928e-01, 2.73103849e-03, 1.71738837e-04, 6.09329109e-05,\n",
       "        2.57272513e-05]))"
      ]
     },
     "execution_count": 8,
     "metadata": {},
     "output_type": "execute_result"
    }
   ],
   "source": [
    "model.predict(tweet1, k=5)"
   ]
  },
  {
   "cell_type": "code",
   "execution_count": 9,
   "metadata": {},
   "outputs": [
    {
     "data": {
      "text/plain": [
       "(('__label__fix',\n",
       "  '__label__unknown',\n",
       "  '__label__change',\n",
       "  '__label__malfunction',\n",
       "  '__label__jam'),\n",
       " array([9.99745071e-01, 2.62494781e-04, 2.00289323e-05, 1.21320918e-05,\n",
       "        1.02652139e-05]))"
      ]
     },
     "execution_count": 9,
     "metadata": {},
     "output_type": "execute_result"
    }
   ],
   "source": [
    "model.predict(tweet2, k=5)"
   ]
  },
  {
   "cell_type": "code",
   "execution_count": 10,
   "metadata": {},
   "outputs": [
    {
     "data": {
      "text/plain": [
       "(('__label__incident',\n",
       "  '__label__accident',\n",
       "  '__label__unknown',\n",
       "  '__label__renovation',\n",
       "  '__label__malfunction'),\n",
       " array([0.84509426, 0.1113437 , 0.02638631, 0.00989922, 0.00391092]))"
      ]
     },
     "execution_count": 10,
     "metadata": {},
     "output_type": "execute_result"
    }
   ],
   "source": [
    "model.predict(tweet3, k=5)"
   ]
  },
  {
   "cell_type": "code",
   "execution_count": 11,
   "metadata": {},
   "outputs": [
    {
     "data": {
      "text/plain": [
       "(('__label__malfunction',\n",
       "  '__label__unknown',\n",
       "  '__label__fix',\n",
       "  '__label__incident',\n",
       "  '__label__accident'),\n",
       " array([8.24357092e-01, 1.73900202e-01, 9.03649081e-04, 8.15173029e-04,\n",
       "        4.44189282e-05]))"
      ]
     },
     "execution_count": 11,
     "metadata": {},
     "output_type": "execute_result"
    }
   ],
   "source": [
    "model.predict(tweet4, k=5)"
   ]
  },
  {
   "cell_type": "code",
   "execution_count": 12,
   "metadata": {},
   "outputs": [
    {
     "data": {
      "text/plain": [
       "(('__label__renovation',\n",
       "  '__label__unknown',\n",
       "  '__label__fix',\n",
       "  '__label__change'),\n",
       " array([0.36902174, 0.19149745, 0.17977308, 0.12607729]))"
      ]
     },
     "execution_count": 12,
     "metadata": {},
     "output_type": "execute_result"
    }
   ],
   "source": [
    "model.predict('#AlertMPK ul. Legnickiego - tramwaje znów ruszyły po swoich stałych trasach.', k=4)"
   ]
  },
  {
   "cell_type": "code",
   "execution_count": null,
   "metadata": {},
   "outputs": [],
   "source": []
  },
  {
   "cell_type": "markdown",
   "metadata": {},
   "source": [
    "#### divide data into train and test dataset and validate prediction"
   ]
  },
  {
   "cell_type": "code",
   "execution_count": 16,
   "metadata": {},
   "outputs": [],
   "source": [
    "m = fasttext.train_supervised(input=\"tweets.train\", epoch=25, lr=3.5, wordNgrams=2)"
   ]
  },
  {
   "cell_type": "code",
   "execution_count": 17,
   "metadata": {},
   "outputs": [
    {
     "data": {
      "text/plain": [
       "(274, 0.9087591240875912, 0.9087591240875912)"
      ]
     },
     "execution_count": 17,
     "metadata": {},
     "output_type": "execute_result"
    }
   ],
   "source": [
    "m.test(\"tweets.test\")"
   ]
  },
  {
   "cell_type": "code",
   "execution_count": null,
   "metadata": {},
   "outputs": [],
   "source": []
  },
  {
   "cell_type": "markdown",
   "metadata": {},
   "source": [
    "#### autotune hyperparameters"
   ]
  },
  {
   "cell_type": "code",
   "execution_count": 18,
   "metadata": {},
   "outputs": [],
   "source": [
    "m2 = fasttext.train_supervised(input=\"tweets.train\", autotuneValidationFile='tweets.test', autotuneDuration=100)"
   ]
  },
  {
   "cell_type": "code",
   "execution_count": 19,
   "metadata": {},
   "outputs": [
    {
     "data": {
      "text/plain": [
       "(274, 0.927007299270073, 0.927007299270073)"
      ]
     },
     "execution_count": 19,
     "metadata": {},
     "output_type": "execute_result"
    }
   ],
   "source": [
    "m2.test(\"tweets.test\")"
   ]
  },
  {
   "cell_type": "markdown",
   "metadata": {},
   "source": [
    "save model"
   ]
  },
  {
   "cell_type": "code",
   "execution_count": 22,
   "metadata": {},
   "outputs": [],
   "source": [
    "m2.save_model(\"autotuned_model.ftz\")"
   ]
  },
  {
   "cell_type": "code",
   "execution_count": 23,
   "metadata": {},
   "outputs": [
    {
     "name": "stdout",
     "output_type": "stream",
     "text": [
      "Learning rate: 0.1\n",
      "Epoch: 5\n",
      "WorNgrams: 1\n"
     ]
    }
   ],
   "source": [
    "print(f'Learning rate: {m2.lr}')\n",
    "print(f'Epoch: {m2.epoch}')\n",
    "print(f'WorNgrams: {m2.wordNgrams}')"
   ]
  },
  {
   "cell_type": "code",
   "execution_count": null,
   "metadata": {},
   "outputs": [],
   "source": []
  }
 ],
 "metadata": {
  "kernelspec": {
   "display_name": "Python 3",
   "language": "python",
   "name": "python3"
  },
  "language_info": {
   "codemirror_mode": {
    "name": "ipython",
    "version": 3
   },
   "file_extension": ".py",
   "mimetype": "text/x-python",
   "name": "python",
   "nbconvert_exporter": "python",
   "pygments_lexer": "ipython3",
   "version": "3.7.4"
  }
 },
 "nbformat": 4,
 "nbformat_minor": 2
}
