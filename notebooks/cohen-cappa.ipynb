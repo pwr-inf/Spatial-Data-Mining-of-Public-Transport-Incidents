{
 "cells": [
  {
   "cell_type": "code",
   "execution_count": 1,
   "metadata": {},
   "outputs": [],
   "source": [
    "import pandas as pd\n",
    "import fasttext\n",
    "import preprocessor\n",
    "from sklearn.metrics import cohen_kappa_score"
   ]
  },
  {
   "cell_type": "markdown",
   "metadata": {},
   "source": [
    "### Test Cohen Kappa to check agreement level (pairwise) between 3 annotators on the annotated sample"
   ]
  },
  {
   "cell_type": "code",
   "execution_count": 2,
   "metadata": {},
   "outputs": [],
   "source": [
    "tweets_excel_file = 'AlertMPK tweets.xlsx'\n",
    "kr = pd.read_excel(tweets_excel_file, sheet_name='Kamil')\n",
    "ms = pd.read_excel(tweets_excel_file, sheet_name='Marcin')\n",
    "yy = pd.read_excel(tweets_excel_file, sheet_name='Yahor')"
   ]
  },
  {
   "cell_type": "code",
   "execution_count": 3,
   "metadata": {},
   "outputs": [],
   "source": [
    "# get labeled tweets\n",
    "def get_labeled_tweets(y_df):\n",
    "    l_df = y_df[['Text', 'Cause']]\n",
    "    l_df = l_df[l_df['Cause'].notnull()]\n",
    "    l_df = l_df.sort_index()\n",
    "    return l_df"
   ]
  },
  {
   "cell_type": "code",
   "execution_count": 4,
   "metadata": {},
   "outputs": [],
   "source": [
    "l_kr = get_labeled_tweets(kr)\n",
    "l_ms = get_labeled_tweets(ms)\n",
    "l_yy = get_labeled_tweets(yy)"
   ]
  },
  {
   "cell_type": "code",
   "execution_count": 5,
   "metadata": {},
   "outputs": [
    {
     "name": "stdout",
     "output_type": "stream",
     "text": [
      "184\n",
      "124\n",
      "201\n"
     ]
    }
   ],
   "source": [
    "print(len(l_kr))\n",
    "print(len(l_ms))\n",
    "print(len(l_yy))"
   ]
  },
  {
   "cell_type": "code",
   "execution_count": 6,
   "metadata": {},
   "outputs": [],
   "source": [
    "def get_cohen_kappa(y1, y2):\n",
    "    common_elem = set(y1.index).intersection(set(y2.index))\n",
    "    return cohen_kappa_score(y1.loc[common_elem]['Cause'], y2.loc[common_elem]['Cause'])"
   ]
  },
  {
   "cell_type": "code",
   "execution_count": 8,
   "metadata": {},
   "outputs": [
    {
     "name": "stdout",
     "output_type": "stream",
     "text": [
      "0.7889541315632712\n",
      "0.7835686479577015\n",
      "0.7547055984555985\n"
     ]
    },
    {
     "name": "stderr",
     "output_type": "stream",
     "text": [
      "/home/marcin/anaconda3/envs/py-all/lib/python3.7/site-packages/sklearn/metrics/classification.py:564: DeprecationWarning: `np.int` is a deprecated alias for the builtin `int`. To silence this warning, use `int` by itself. Doing this will not modify any behavior and is safe. When replacing `np.int`, you may wish to use e.g. `np.int64` or `np.int32` to specify the precision. If you wish to review your current use, check the release note link for additional information.\n",
      "Deprecated in NumPy 1.20; for more details and guidance: https://numpy.org/devdocs/release/1.20.0-notes.html#deprecations\n",
      "  w_mat = np.ones([n_classes, n_classes], dtype=np.int)\n",
      "/home/marcin/anaconda3/envs/py-all/lib/python3.7/site-packages/sklearn/metrics/classification.py:564: DeprecationWarning: `np.int` is a deprecated alias for the builtin `int`. To silence this warning, use `int` by itself. Doing this will not modify any behavior and is safe. When replacing `np.int`, you may wish to use e.g. `np.int64` or `np.int32` to specify the precision. If you wish to review your current use, check the release note link for additional information.\n",
      "Deprecated in NumPy 1.20; for more details and guidance: https://numpy.org/devdocs/release/1.20.0-notes.html#deprecations\n",
      "  w_mat = np.ones([n_classes, n_classes], dtype=np.int)\n",
      "/home/marcin/anaconda3/envs/py-all/lib/python3.7/site-packages/sklearn/metrics/classification.py:564: DeprecationWarning: `np.int` is a deprecated alias for the builtin `int`. To silence this warning, use `int` by itself. Doing this will not modify any behavior and is safe. When replacing `np.int`, you may wish to use e.g. `np.int64` or `np.int32` to specify the precision. If you wish to review your current use, check the release note link for additional information.\n",
      "Deprecated in NumPy 1.20; for more details and guidance: https://numpy.org/devdocs/release/1.20.0-notes.html#deprecations\n",
      "  w_mat = np.ones([n_classes, n_classes], dtype=np.int)\n"
     ]
    }
   ],
   "source": [
    "print(get_cohen_kappa(l_kr, l_ms))\n",
    "print(get_cohen_kappa(l_kr, l_yy))\n",
    "print(get_cohen_kappa(l_ms, l_yy))"
   ]
  },
  {
   "cell_type": "code",
   "execution_count": null,
   "metadata": {},
   "outputs": [],
   "source": []
  },
  {
   "cell_type": "code",
   "execution_count": null,
   "metadata": {},
   "outputs": [],
   "source": []
  }
 ],
 "metadata": {
  "kernelspec": {
   "display_name": "Python 3",
   "language": "python",
   "name": "python3"
  },
  "language_info": {
   "codemirror_mode": {
    "name": "ipython",
    "version": 3
   },
   "file_extension": ".py",
   "mimetype": "text/x-python",
   "name": "python",
   "nbconvert_exporter": "python",
   "pygments_lexer": "ipython3",
   "version": "3.7.4"
  }
 },
 "nbformat": 4,
 "nbformat_minor": 2
}
