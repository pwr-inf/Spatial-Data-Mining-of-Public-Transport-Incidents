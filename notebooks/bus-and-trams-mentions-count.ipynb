{
 "cells": [
  {
   "cell_type": "code",
   "execution_count": 3,
   "metadata": {},
   "outputs": [
    {
     "name": "stderr",
     "output_type": "stream",
     "text": [
      "In /home/marcin/anaconda3/envs/py-all/lib/python3.7/site-packages/matplotlib/mpl-data/stylelib/_classic_test.mplstyle: \n",
      "The text.latex.preview rcparam was deprecated in Matplotlib 3.3 and will be removed two minor releases later.\n",
      "In /home/marcin/anaconda3/envs/py-all/lib/python3.7/site-packages/matplotlib/mpl-data/stylelib/_classic_test.mplstyle: \n",
      "The mathtext.fallback_to_cm rcparam was deprecated in Matplotlib 3.3 and will be removed two minor releases later.\n",
      "In /home/marcin/anaconda3/envs/py-all/lib/python3.7/site-packages/matplotlib/mpl-data/stylelib/_classic_test.mplstyle: Support for setting the 'mathtext.fallback_to_cm' rcParam is deprecated since 3.3 and will be removed two minor releases later; use 'mathtext.fallback : 'cm' instead.\n",
      "In /home/marcin/anaconda3/envs/py-all/lib/python3.7/site-packages/matplotlib/mpl-data/stylelib/_classic_test.mplstyle: \n",
      "The validate_bool_maybe_none function was deprecated in Matplotlib 3.3 and will be removed two minor releases later.\n",
      "In /home/marcin/anaconda3/envs/py-all/lib/python3.7/site-packages/matplotlib/mpl-data/stylelib/_classic_test.mplstyle: \n",
      "The savefig.jpeg_quality rcparam was deprecated in Matplotlib 3.3 and will be removed two minor releases later.\n",
      "In /home/marcin/anaconda3/envs/py-all/lib/python3.7/site-packages/matplotlib/mpl-data/stylelib/_classic_test.mplstyle: \n",
      "The keymap.all_axes rcparam was deprecated in Matplotlib 3.3 and will be removed two minor releases later.\n",
      "In /home/marcin/anaconda3/envs/py-all/lib/python3.7/site-packages/matplotlib/mpl-data/stylelib/_classic_test.mplstyle: \n",
      "The animation.avconv_path rcparam was deprecated in Matplotlib 3.3 and will be removed two minor releases later.\n",
      "In /home/marcin/anaconda3/envs/py-all/lib/python3.7/site-packages/matplotlib/mpl-data/stylelib/_classic_test.mplstyle: \n",
      "The animation.avconv_args rcparam was deprecated in Matplotlib 3.3 and will be removed two minor releases later.\n"
     ]
    }
   ],
   "source": [
    "import re\n",
    "import os\n",
    "import json\n",
    "import fasttext\n",
    "import pandas as pd\n",
    "import numpy as np\n",
    "from matplotlib import pyplot as plt"
   ]
  },
  {
   "cell_type": "code",
   "execution_count": null,
   "metadata": {},
   "outputs": [],
   "source": []
  },
  {
   "cell_type": "code",
   "execution_count": 4,
   "metadata": {},
   "outputs": [],
   "source": [
    "posts_file = '../../cleaned_data/cleaned/alert_mpk_posts.json'"
   ]
  },
  {
   "cell_type": "code",
   "execution_count": 24,
   "metadata": {},
   "outputs": [],
   "source": [
    "posts = []\n",
    "for line in open(posts_file, 'r'):\n",
    "    posts.append(json.loads(line))"
   ]
  },
  {
   "cell_type": "code",
   "execution_count": 25,
   "metadata": {},
   "outputs": [
    {
     "data": {
      "text/plain": [
       "622"
      ]
     },
     "execution_count": 25,
     "metadata": {},
     "output_type": "execute_result"
    }
   ],
   "source": [
    "len(posts)"
   ]
  },
  {
   "cell_type": "code",
   "execution_count": 26,
   "metadata": {},
   "outputs": [
    {
     "data": {
      "text/plain": [
       "array(['accident', 'event', 'fix', 'incident', 'malfunction',\n",
       "       'renovation', 'unknown'], dtype='<U11')"
      ]
     },
     "execution_count": 26,
     "metadata": {},
     "output_type": "execute_result"
    }
   ],
   "source": [
    "np.unique([post['label'] for post in posts])"
   ]
  },
  {
   "cell_type": "code",
   "execution_count": 27,
   "metadata": {},
   "outputs": [],
   "source": [
    "# filter only selected types\n",
    "types = ['accident', 'incident', 'malfunction', 'unknown']\n",
    "posts = [post for post in posts if post['label'] in types]"
   ]
  },
  {
   "cell_type": "code",
   "execution_count": 28,
   "metadata": {},
   "outputs": [
    {
     "data": {
      "text/plain": [
       "482"
      ]
     },
     "execution_count": 28,
     "metadata": {},
     "output_type": "execute_result"
    }
   ],
   "source": [
    "len(posts)"
   ]
  },
  {
   "cell_type": "code",
   "execution_count": 31,
   "metadata": {},
   "outputs": [],
   "source": [
    "# regex for finding bus lines and tram lines names\n",
    "line_finder_regex = '(?!^\\d*\\..*$)(?<![.a-zA-Z\\d:-])(?<!stycznia )(?<!lutego )(?<!marca )(?<!kwietnia )(?<!maja )(?<!czerwca )(?<!lipca )(?<!sierpnia )(?<!września )(?<!października )(?<!listopada )(?<!grudnia )([1-9]\\d*|[ACDKN]|0[PL])(?![a-zA-Z:\\d]| stycznia| lutego| marca| kwietnia| maja| czerwca| lipca| sierpnia| września| października| listopada| grudnia| minut)'"
   ]
  },
  {
   "cell_type": "code",
   "execution_count": 34,
   "metadata": {},
   "outputs": [],
   "source": [
    "lines_count = dict()\n",
    "for post in posts:\n",
    "    post_lines = set()\n",
    "    for text_line in post['text'].split('\\n'):\n",
    "        for bus_line in re.findall(line_finder_regex, text_line):\n",
    "            post_lines.add(bus_line)\n",
    "    \n",
    "    for bus_line in post_lines:\n",
    "        if bus_line not in lines_count:\n",
    "            lines_count[bus_line] = 0\n",
    "        lines_count[bus_line] = lines_count[bus_line] + 1\n",
    "    "
   ]
  },
  {
   "cell_type": "code",
   "execution_count": 43,
   "metadata": {
    "scrolled": true
   },
   "outputs": [
    {
     "data": {
      "text/plain": [
       "{'20': 93,\n",
       " '7': 85,\n",
       " '17': 84,\n",
       " '3': 83,\n",
       " '10': 81,\n",
       " '15': 77,\n",
       " '14': 72,\n",
       " '33': 67,\n",
       " '31': 66,\n",
       " '2': 66,\n",
       " '5': 66,\n",
       " '32': 65,\n",
       " '6': 64,\n",
       " '4': 62,\n",
       " '24': 62,\n",
       " '11': 52,\n",
       " '8': 51,\n",
       " '1': 49,\n",
       " '9': 49,\n",
       " '0P': 47,\n",
       " '23': 45,\n",
       " '0L': 44,\n",
       " 'D': 19,\n",
       " '119': 15,\n",
       " '118': 13,\n",
       " '107': 12,\n",
       " 'K': 11,\n",
       " '133': 8,\n",
       " '132': 8,\n",
       " '106': 8,\n",
       " '148': 8,\n",
       " 'N': 8,\n",
       " '116': 7,\n",
       " '102': 7,\n",
       " 'A': 6,\n",
       " '130': 6,\n",
       " '149': 6,\n",
       " '134': 6,\n",
       " '145': 6,\n",
       " '125': 6,\n",
       " '319': 5,\n",
       " '612': 5,\n",
       " '122': 5,\n",
       " '142': 5,\n",
       " '146': 5,\n",
       " '141': 5,\n",
       " '121': 5,\n",
       " '126': 5,\n",
       " '136': 5,\n",
       " '103': 5,\n",
       " '114': 5,\n",
       " '120': 5,\n",
       " '113': 4,\n",
       " '112': 4,\n",
       " '115': 4,\n",
       " '131': 4,\n",
       " '128': 4,\n",
       " '732': 4,\n",
       " '708': 4,\n",
       " '609': 4,\n",
       " '109': 4,\n",
       " '129': 4,\n",
       " '101': 3,\n",
       " '105': 2,\n",
       " '111': 2,\n",
       " '144': 2,\n",
       " '325': 2,\n",
       " '110': 2,\n",
       " '127': 2,\n",
       " '124': 2,\n",
       " '305': 1,\n",
       " '10111': 1,\n",
       " '10274': 1,\n",
       " '10272': 1,\n",
       " '10243': 1,\n",
       " '10256': 1,\n",
       " '241': 1,\n",
       " '147': 1,\n",
       " '709': 1,\n",
       " '90': 1,\n",
       " '30': 1,\n",
       " '104': 1,\n",
       " '715': 1,\n",
       " '26': 1,\n",
       " '140': 1,\n",
       " '714': 1,\n",
       " '143': 1}"
      ]
     },
     "execution_count": 43,
     "metadata": {},
     "output_type": "execute_result"
    }
   ],
   "source": [
    "# tram and bus lines with number of mentios, ordered by the count\n",
    "{k: v for k, v in sorted(lines_count.items(), key=lambda item: item[1], reverse=True)}"
   ]
  },
  {
   "cell_type": "code",
   "execution_count": 41,
   "metadata": {
    "scrolled": true
   },
   "outputs": [],
   "source": [
    "# sum mentions of trams\n",
    "count = 0\n",
    "for key, value in lines_count.items():\n",
    "    if re.match('^\\d$|^\\d\\d$|0[LP]', key):\n",
    "        count = count + value"
   ]
  },
  {
   "cell_type": "code",
   "execution_count": 37,
   "metadata": {},
   "outputs": [
    {
     "data": {
      "text/plain": [
       "1433"
      ]
     },
     "execution_count": 37,
     "metadata": {},
     "output_type": "execute_result"
    }
   ],
   "source": [
    "count"
   ]
  },
  {
   "cell_type": "code",
   "execution_count": 40,
   "metadata": {},
   "outputs": [],
   "source": [
    "# sum mentions of buses\n",
    "count = 0\n",
    "for key, value in lines_count.items():\n",
    "    if re.match('^\\d\\d\\d$|^[A-Z]$', key):\n",
    "        count = count + value"
   ]
  },
  {
   "cell_type": "code",
   "execution_count": 39,
   "metadata": {},
   "outputs": [
    {
     "data": {
      "text/plain": [
       "286"
      ]
     },
     "execution_count": 39,
     "metadata": {},
     "output_type": "execute_result"
    }
   ],
   "source": [
    "count"
   ]
  },
  {
   "cell_type": "code",
   "execution_count": null,
   "metadata": {},
   "outputs": [],
   "source": []
  }
 ],
 "metadata": {
  "kernelspec": {
   "display_name": "Python 3",
   "language": "python",
   "name": "python3"
  },
  "language_info": {
   "codemirror_mode": {
    "name": "ipython",
    "version": 3
   },
   "file_extension": ".py",
   "mimetype": "text/x-python",
   "name": "python",
   "nbconvert_exporter": "python",
   "pygments_lexer": "ipython3",
   "version": "3.7.4"
  }
 },
 "nbformat": 4,
 "nbformat_minor": 2
}
