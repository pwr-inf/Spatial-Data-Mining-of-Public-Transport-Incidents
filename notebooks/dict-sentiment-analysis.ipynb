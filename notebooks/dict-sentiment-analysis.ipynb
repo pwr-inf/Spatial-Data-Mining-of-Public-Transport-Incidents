{
 "cells": [
  {
   "cell_type": "code",
   "execution_count": 20,
   "metadata": {},
   "outputs": [],
   "source": [
    "import sys\n",
    "import os\n",
    "import re\n",
    "import xml.etree.ElementTree as ET\n",
    "import pandas as pd\n",
    "import numpy as np\n",
    "import matplotlib.pyplot as plt"
   ]
  },
  {
   "cell_type": "markdown",
   "metadata": {},
   "source": [
    "### Sentiment analysis of the comments"
   ]
  },
  {
   "cell_type": "code",
   "execution_count": 11,
   "metadata": {},
   "outputs": [],
   "source": [
    "tweets_excel_file = 'AlertMPK comments.xlsx'\n",
    "comments_sheet = pd.read_excel(tweets_excel_file, sheet_name='mainSheet')"
   ]
  },
  {
   "cell_type": "code",
   "execution_count": 12,
   "metadata": {},
   "outputs": [
    {
     "data": {
      "text/html": [
       "<div>\n",
       "<style scoped>\n",
       "    .dataframe tbody tr th:only-of-type {\n",
       "        vertical-align: middle;\n",
       "    }\n",
       "\n",
       "    .dataframe tbody tr th {\n",
       "        vertical-align: top;\n",
       "    }\n",
       "\n",
       "    .dataframe thead th {\n",
       "        text-align: right;\n",
       "    }\n",
       "</style>\n",
       "<table border=\"1\" class=\"dataframe\">\n",
       "  <thead>\n",
       "    <tr style=\"text-align: right;\">\n",
       "      <th></th>\n",
       "      <th>id</th>\n",
       "      <th>post_id</th>\n",
       "      <th>cleaned_comment_without_username</th>\n",
       "      <th>label</th>\n",
       "      <th>Unnamed: 4</th>\n",
       "    </tr>\n",
       "  </thead>\n",
       "  <tbody>\n",
       "    <tr>\n",
       "      <td>0</td>\n",
       "      <td>5dd483a6804e3d1bf0e8c321</td>\n",
       "      <td>5dd483a3804e3d1bf0e8c320</td>\n",
       "      <td>Autobusy na suchej jeżdżą normalnie? Czy przez...</td>\n",
       "      <td>0.0</td>\n",
       "      <td>0</td>\n",
       "    </tr>\n",
       "    <tr>\n",
       "      <td>1</td>\n",
       "      <td>5dd483a8804e3d1bf0e8c322</td>\n",
       "      <td>5dd483a3804e3d1bf0e8c320</td>\n",
       "      <td>Ponieważ</td>\n",
       "      <td>0.0</td>\n",
       "      <td>unknown</td>\n",
       "    </tr>\n",
       "    <tr>\n",
       "      <td>2</td>\n",
       "      <td>5dd4850e804e3d1bf0e8c3ea</td>\n",
       "      <td>5dd4850d804e3d1bf0e8c3e9</td>\n",
       "      <td>Jest 5 Inwestycji, a jeszcze dwie nam dochodzą...</td>\n",
       "      <td>0.0</td>\n",
       "      <td>0</td>\n",
       "    </tr>\n",
       "    <tr>\n",
       "      <td>3</td>\n",
       "      <td>5dd48510804e3d1bf0e8c3eb</td>\n",
       "      <td>5dd4850d804e3d1bf0e8c3e9</td>\n",
       "      <td>Bocian Super, czyli z Joannitów już niczym się...</td>\n",
       "      <td>0.0</td>\n",
       "      <td>-1</td>\n",
       "    </tr>\n",
       "    <tr>\n",
       "      <td>4</td>\n",
       "      <td>5dd4851b804e3d1bf0e8c3ed</td>\n",
       "      <td>5dd4851a804e3d1bf0e8c3ec</td>\n",
       "      <td>A jak to wpłynie na opóźnienia 118? Czy zostan...</td>\n",
       "      <td>-1.0</td>\n",
       "      <td>-1</td>\n",
       "    </tr>\n",
       "    <tr>\n",
       "      <td>...</td>\n",
       "      <td>...</td>\n",
       "      <td>...</td>\n",
       "      <td>...</td>\n",
       "      <td>...</td>\n",
       "      <td>...</td>\n",
       "    </tr>\n",
       "    <tr>\n",
       "      <td>3865</td>\n",
       "      <td>5dda5794073b739b4a9aa6fe</td>\n",
       "      <td>5dda5783073b739b4a9aa6fd</td>\n",
       "      <td>A u was klasycznie - wszystkie plagi tego świa...</td>\n",
       "      <td>NaN</td>\n",
       "      <td>NaN</td>\n",
       "    </tr>\n",
       "    <tr>\n",
       "      <td>3866</td>\n",
       "      <td>5dda579d073b739b4a9aa6ff</td>\n",
       "      <td>5dda5783073b739b4a9aa6fd</td>\n",
       "      <td>Już 3 awaria dziś dobry tydzień się zapowiada</td>\n",
       "      <td>NaN</td>\n",
       "      <td>NaN</td>\n",
       "    </tr>\n",
       "    <tr>\n",
       "      <td>3867</td>\n",
       "      <td>5dda57a4073b739b4a9aa700</td>\n",
       "      <td>5dda5783073b739b4a9aa6fd</td>\n",
       "      <td>chyba nie bardzo wróciły na swoje trasy, bo pr...</td>\n",
       "      <td>NaN</td>\n",
       "      <td>NaN</td>\n",
       "    </tr>\n",
       "    <tr>\n",
       "      <td>3868</td>\n",
       "      <td>5dda57b3073b739b4a9aa701</td>\n",
       "      <td>5dda5783073b739b4a9aa6fd</td>\n",
       "      <td>mam nadzieje,ze jestes w Brzegu.</td>\n",
       "      <td>NaN</td>\n",
       "      <td>NaN</td>\n",
       "    </tr>\n",
       "    <tr>\n",
       "      <td>3869</td>\n",
       "      <td>5dda57b5073b739b4a9aa702</td>\n",
       "      <td>5dda5783073b739b4a9aa6fd</td>\n",
       "      <td>Ładnie się zaczyna nowy tydzień.</td>\n",
       "      <td>NaN</td>\n",
       "      <td>NaN</td>\n",
       "    </tr>\n",
       "  </tbody>\n",
       "</table>\n",
       "<p>3870 rows × 5 columns</p>\n",
       "</div>"
      ],
      "text/plain": [
       "                            id                   post_id  \\\n",
       "0     5dd483a6804e3d1bf0e8c321  5dd483a3804e3d1bf0e8c320   \n",
       "1     5dd483a8804e3d1bf0e8c322  5dd483a3804e3d1bf0e8c320   \n",
       "2     5dd4850e804e3d1bf0e8c3ea  5dd4850d804e3d1bf0e8c3e9   \n",
       "3     5dd48510804e3d1bf0e8c3eb  5dd4850d804e3d1bf0e8c3e9   \n",
       "4     5dd4851b804e3d1bf0e8c3ed  5dd4851a804e3d1bf0e8c3ec   \n",
       "...                        ...                       ...   \n",
       "3865  5dda5794073b739b4a9aa6fe  5dda5783073b739b4a9aa6fd   \n",
       "3866  5dda579d073b739b4a9aa6ff  5dda5783073b739b4a9aa6fd   \n",
       "3867  5dda57a4073b739b4a9aa700  5dda5783073b739b4a9aa6fd   \n",
       "3868  5dda57b3073b739b4a9aa701  5dda5783073b739b4a9aa6fd   \n",
       "3869  5dda57b5073b739b4a9aa702  5dda5783073b739b4a9aa6fd   \n",
       "\n",
       "                       cleaned_comment_without_username  label Unnamed: 4  \n",
       "0     Autobusy na suchej jeżdżą normalnie? Czy przez...    0.0          0  \n",
       "1                                              Ponieważ    0.0    unknown  \n",
       "2     Jest 5 Inwestycji, a jeszcze dwie nam dochodzą...    0.0          0  \n",
       "3     Bocian Super, czyli z Joannitów już niczym się...    0.0         -1  \n",
       "4     A jak to wpłynie na opóźnienia 118? Czy zostan...   -1.0         -1  \n",
       "...                                                 ...    ...        ...  \n",
       "3865  A u was klasycznie - wszystkie plagi tego świa...    NaN        NaN  \n",
       "3866      Już 3 awaria dziś dobry tydzień się zapowiada    NaN        NaN  \n",
       "3867  chyba nie bardzo wróciły na swoje trasy, bo pr...    NaN        NaN  \n",
       "3868                   mam nadzieje,ze jestes w Brzegu.    NaN        NaN  \n",
       "3869                   Ładnie się zaczyna nowy tydzień.    NaN        NaN  \n",
       "\n",
       "[3870 rows x 5 columns]"
      ]
     },
     "execution_count": 12,
     "metadata": {},
     "output_type": "execute_result"
    }
   ],
   "source": [
    "comments_sheet"
   ]
  },
  {
   "cell_type": "code",
   "execution_count": 14,
   "metadata": {},
   "outputs": [],
   "source": [
    "ids = list(comments_sheet['id'])\n",
    "comments = list(comments_sheet['cleaned_comment_without_username'])"
   ]
  },
  {
   "cell_type": "markdown",
   "metadata": {},
   "source": [
    "Save comments and ids in seperatated files\n",
    "\n",
    "-ids are remained to preserve mapping to the post and commentaries"
   ]
  },
  {
   "cell_type": "code",
   "execution_count": 18,
   "metadata": {},
   "outputs": [],
   "source": [
    "with open(\"data/comments\", 'x') as write_file:\n",
    "    for comment in comments:\n",
    "        write_file.write(str(comment) + os.linesep + os.linesep)"
   ]
  },
  {
   "cell_type": "code",
   "execution_count": 53,
   "metadata": {},
   "outputs": [],
   "source": [
    "with open(\"data/ids\", 'x') as write_file:\n",
    "    for id in ids:\n",
    "        write_file.write(str(id) + os.linesep)"
   ]
  },
  {
   "cell_type": "code",
   "execution_count": null,
   "metadata": {},
   "outputs": [],
   "source": []
  },
  {
   "cell_type": "markdown",
   "metadata": {},
   "source": [
    "Morpheus divides opinions into sentences, so cmc tagger also keeps this structure\n",
    "\n",
    "Below we pull out the full sentences from xml structure"
   ]
  },
  {
   "cell_type": "code",
   "execution_count": 43,
   "metadata": {},
   "outputs": [],
   "source": [
    "input_file = \"data/comments-morf.tagged\"\n",
    "opinions_file = \"data/comments\"\n",
    "\n",
    "out_file = \"data/sentences-cmc\"\n",
    "\n",
    "root = ET.parse(input_file).getroot()\n",
    "\n",
    "with open(out_file, 'w') as write_file:\n",
    "    for chunk in root:\n",
    "        skip_space = True\n",
    "        for sentence in chunk:\n",
    "            for token in sentence:\n",
    "                if token.tag == 'tok':\n",
    "                    if skip_space is False:\n",
    "                        write_file.write(' ')\n",
    "                    if skip_space is True:\n",
    "                        skip_space = False\n",
    "                    orth = token.find('orth')\n",
    "                    write_file.write(orth.text)\n",
    "                if token.tag == 'ns':\n",
    "                    skip_space = True\n",
    "            write_file.write(os.linesep)"
   ]
  },
  {
   "cell_type": "markdown",
   "metadata": {},
   "source": [
    "Next, we take base form of the words except those types we know we would not use it to get text sentiment, here: interpunction and numerical values\n",
    "\n",
    "and we place in the next file where every line is a sentence (with words in their basic forms)"
   ]
  },
  {
   "cell_type": "code",
   "execution_count": 46,
   "metadata": {},
   "outputs": [],
   "source": [
    "filtered_file = \"data/cmc-base\"\n",
    "\n",
    "root = ET.parse(input_file).getroot()\n",
    "\n",
    "with open(base_form_sentences_file, 'w') as write_file:\n",
    "    for chunk in root:\n",
    "        for sentence in chunk:\n",
    "            for token in sentence:\n",
    "                if token.tag == 'tok':\n",
    "                    lex = token.find('lex')\n",
    "                    base_word = lex.find('base')\n",
    "                    orth = token.find('orth')\n",
    "                    ctag = lex.find('ctag')\n",
    "                    if ctag.text.split(\":\", 1)[0] not in ['interp', 'num']:\n",
    "                        write_file.write(base_word.text + ' ')\n",
    "            write_file.write(os.linesep)"
   ]
  },
  {
   "cell_type": "code",
   "execution_count": null,
   "metadata": {},
   "outputs": [],
   "source": []
  },
  {
   "cell_type": "markdown",
   "metadata": {},
   "source": [
    "Using full opinions, full sentences and sentences with words modified to their basic form, we recreate opinions with modfied words"
   ]
  },
  {
   "cell_type": "code",
   "execution_count": 47,
   "metadata": {},
   "outputs": [],
   "source": [
    "with open(opinions_file) as f:\n",
    "    opinions = f.read().splitlines()\n",
    "    \n",
    "with open(out_file) as f:\n",
    "    sentences = f.read().splitlines()\n",
    "\n",
    "with open(filtered_file) as f:\n",
    "    filtered_words = f.read().splitlines()\n",
    "\n",
    "opinions = list(filter(lambda o: bool(o.strip()), opinions))"
   ]
  },
  {
   "cell_type": "code",
   "execution_count": 49,
   "metadata": {},
   "outputs": [],
   "source": [
    "opinion_index = 0\n",
    "sentence_index = 0\n",
    "op_sent_nb = [0] * len(opinions)\n",
    "opinions_filtered = [''] * len(opinions)\n",
    "while opinion_index < len(opinions) and sentence_index < len(sentences):\n",
    "    if sentences[sentence_index] in opinions[opinion_index]:\n",
    "        op_sent_nb[opinion_index] = op_sent_nb[opinion_index] + 1\n",
    "        if filtered_words[sentence_index].strip():\n",
    "            opinions_filtered[opinion_index] = opinions_filtered[opinion_index] + filtered_words[sentence_index]\n",
    "        sentence_index = sentence_index + 1\n",
    "    else:\n",
    "        opinion_index = opinion_index + 1    "
   ]
  },
  {
   "cell_type": "code",
   "execution_count": 50,
   "metadata": {},
   "outputs": [],
   "source": [
    "output_path = \"data/base-opinions-cmc\""
   ]
  },
  {
   "cell_type": "code",
   "execution_count": 51,
   "metadata": {},
   "outputs": [],
   "source": [
    "with open(output_path, 'w') as write_file:\n",
    "    for op in opinions_filtered:\n",
    "        write_file.write(op + os.linesep)"
   ]
  },
  {
   "cell_type": "code",
   "execution_count": null,
   "metadata": {},
   "outputs": [],
   "source": []
  },
  {
   "cell_type": "code",
   "execution_count": 57,
   "metadata": {},
   "outputs": [],
   "source": [
    "with open(\"data/base-opinions-cmc\") as f:\n",
    "    base_comments = f.read().splitlines()\n",
    "    \n",
    "with open(\"data/ids\") as f:\n",
    "    ids = f.read().splitlines()"
   ]
  },
  {
   "cell_type": "code",
   "execution_count": 56,
   "metadata": {},
   "outputs": [
    {
     "data": {
      "text/plain": [
       "3870"
      ]
     },
     "execution_count": 56,
     "metadata": {},
     "output_type": "execute_result"
    }
   ],
   "source": [
    "len(base_comments)"
   ]
  },
  {
   "cell_type": "code",
   "execution_count": 61,
   "metadata": {},
   "outputs": [],
   "source": [
    "base_df = pd.DataFrame(\n",
    "    {\n",
    "        'id': ids,\n",
    "        'comment': base_comments\n",
    "    })"
   ]
  },
  {
   "cell_type": "code",
   "execution_count": 62,
   "metadata": {
    "scrolled": true
   },
   "outputs": [
    {
     "data": {
      "text/html": [
       "<div>\n",
       "<style scoped>\n",
       "    .dataframe tbody tr th:only-of-type {\n",
       "        vertical-align: middle;\n",
       "    }\n",
       "\n",
       "    .dataframe tbody tr th {\n",
       "        vertical-align: top;\n",
       "    }\n",
       "\n",
       "    .dataframe thead th {\n",
       "        text-align: right;\n",
       "    }\n",
       "</style>\n",
       "<table border=\"1\" class=\"dataframe\">\n",
       "  <thead>\n",
       "    <tr style=\"text-align: right;\">\n",
       "      <th></th>\n",
       "      <th>id</th>\n",
       "      <th>comment</th>\n",
       "    </tr>\n",
       "  </thead>\n",
       "  <tbody>\n",
       "    <tr>\n",
       "      <td>0</td>\n",
       "      <td>5dd483a6804e3d1bf0e8c321</td>\n",
       "      <td>autobus na suchy jeździć normalnie czy przez t...</td>\n",
       "    </tr>\n",
       "    <tr>\n",
       "      <td>1</td>\n",
       "      <td>5dd483a8804e3d1bf0e8c322</td>\n",
       "      <td>ponieważ</td>\n",
       "    </tr>\n",
       "    <tr>\n",
       "      <td>2</td>\n",
       "      <td>5dd4850e804e3d1bf0e8c3ea</td>\n",
       "      <td>być 5 inwestycja a jeszcze my dochodzić zarąbi...</td>\n",
       "    </tr>\n",
       "    <tr>\n",
       "      <td>3</td>\n",
       "      <td>5dd48510804e3d1bf0e8c3eb</td>\n",
       "      <td>bocian super czyli z joannita już nic się nie ...</td>\n",
       "    </tr>\n",
       "    <tr>\n",
       "      <td>4</td>\n",
       "      <td>5dd4851b804e3d1bf0e8c3ed</td>\n",
       "      <td>a jak to wpłynąć na opóźnienie czy zostać wpro...</td>\n",
       "    </tr>\n",
       "    <tr>\n",
       "      <td>...</td>\n",
       "      <td>...</td>\n",
       "      <td>...</td>\n",
       "    </tr>\n",
       "    <tr>\n",
       "      <td>3865</td>\n",
       "      <td>5dda5794073b739b4a9aa6fe</td>\n",
       "      <td>a u wy klasycznie wszystek plaga ten świat w j...</td>\n",
       "    </tr>\n",
       "    <tr>\n",
       "      <td>3866</td>\n",
       "      <td>5dda579d073b739b4a9aa6ff</td>\n",
       "      <td>już 3 awaria dziś dobry tydzień się zapowiadać</td>\n",
       "    </tr>\n",
       "    <tr>\n",
       "      <td>3867</td>\n",
       "      <td>5dda57a4073b739b4a9aa700</td>\n",
       "      <td>chyba nie bardzo wrócić na swój trasa bo przez...</td>\n",
       "    </tr>\n",
       "    <tr>\n",
       "      <td>3868</td>\n",
       "      <td>5dda57b3073b739b4a9aa701</td>\n",
       "      <td>mieć Nadzieja z jestes w brzeg</td>\n",
       "    </tr>\n",
       "    <tr>\n",
       "      <td>3869</td>\n",
       "      <td>5dda57b5073b739b4a9aa702</td>\n",
       "      <td>ładnie się zaczynać nowy tydzień</td>\n",
       "    </tr>\n",
       "  </tbody>\n",
       "</table>\n",
       "<p>3870 rows × 2 columns</p>\n",
       "</div>"
      ],
      "text/plain": [
       "                            id  \\\n",
       "0     5dd483a6804e3d1bf0e8c321   \n",
       "1     5dd483a8804e3d1bf0e8c322   \n",
       "2     5dd4850e804e3d1bf0e8c3ea   \n",
       "3     5dd48510804e3d1bf0e8c3eb   \n",
       "4     5dd4851b804e3d1bf0e8c3ed   \n",
       "...                        ...   \n",
       "3865  5dda5794073b739b4a9aa6fe   \n",
       "3866  5dda579d073b739b4a9aa6ff   \n",
       "3867  5dda57a4073b739b4a9aa700   \n",
       "3868  5dda57b3073b739b4a9aa701   \n",
       "3869  5dda57b5073b739b4a9aa702   \n",
       "\n",
       "                                                comment  \n",
       "0     autobus na suchy jeździć normalnie czy przez t...  \n",
       "1                                             ponieważ   \n",
       "2     być 5 inwestycja a jeszcze my dochodzić zarąbi...  \n",
       "3     bocian super czyli z joannita już nic się nie ...  \n",
       "4     a jak to wpłynąć na opóźnienie czy zostać wpro...  \n",
       "...                                                 ...  \n",
       "3865  a u wy klasycznie wszystek plaga ten świat w j...  \n",
       "3866    już 3 awaria dziś dobry tydzień się zapowiadać   \n",
       "3867  chyba nie bardzo wrócić na swój trasa bo przez...  \n",
       "3868                    mieć Nadzieja z jestes w brzeg   \n",
       "3869                  ładnie się zaczynać nowy tydzień   \n",
       "\n",
       "[3870 rows x 2 columns]"
      ]
     },
     "execution_count": 62,
     "metadata": {},
     "output_type": "execute_result"
    }
   ],
   "source": [
    "base_df"
   ]
  },
  {
   "cell_type": "markdown",
   "metadata": {},
   "source": [
    "The dictionary comes from http://clip.ipipan.waw.pl/LRT , exactly from http://zil.ipipan.waw.pl/SlownikWydzwieku"
   ]
  },
  {
   "cell_type": "code",
   "execution_count": 65,
   "metadata": {},
   "outputs": [],
   "source": [
    "sentiment_dictionary = pd.read_csv('slownikWydzwieku01.csv', sep=\"\\t\", header=None)"
   ]
  },
  {
   "cell_type": "code",
   "execution_count": 74,
   "metadata": {},
   "outputs": [],
   "source": [
    "dct = list(sentiment_dictionary[0])"
   ]
  },
  {
   "cell_type": "code",
   "execution_count": 82,
   "metadata": {},
   "outputs": [],
   "source": [
    "def get_word_sentiment(word):\n",
    "    if word in dct:\n",
    "        return float(sentiment_dictionary.loc[sentiment_dictionary[0] == word, 5])\n",
    "    else: \n",
    "        return 0."
   ]
  },
  {
   "cell_type": "code",
   "execution_count": null,
   "metadata": {},
   "outputs": [],
   "source": []
  },
  {
   "cell_type": "code",
   "execution_count": 106,
   "metadata": {},
   "outputs": [],
   "source": [
    "def get_word_sentiment_in_text(text):\n",
    "    words = text.strip().split(' ')\n",
    "    return [(word, get_word_sentiment(word)) for word in words]"
   ]
  },
  {
   "cell_type": "code",
   "execution_count": 107,
   "metadata": {},
   "outputs": [
    {
     "data": {
      "text/plain": [
       "'a jak to wpłynąć na opóźnienie czy zostać wprowadzić zmiana w rozkład jazda odnośnie godzina odjazd bo obecnie mieć zmienić trasa w związek z przebudowa ulica obornicki i choć on trasa w kierunek Sępolno Wojnowa znacznie się wydłużyć godzina odjazd nie zmienić się a autobus przyjeżdżać zawsze spóźnić teraz zostać skierować objazd przez zakorkować Swojczycką CO znowu wydłużyć trasa i zwiększyć i tak już w godzina szczyt zwłaszcza poranny gigantyczny opóźnienie '"
      ]
     },
     "execution_count": 107,
     "metadata": {},
     "output_type": "execute_result"
    }
   ],
   "source": [
    "base_df.loc[4, 'comment']"
   ]
  },
  {
   "cell_type": "code",
   "execution_count": 108,
   "metadata": {
    "scrolled": true
   },
   "outputs": [
    {
     "data": {
      "text/plain": [
       "[('a', 0.0),\n",
       " ('jak', 6.1),\n",
       " ('to', 0.0),\n",
       " ('wpłynąć', 0.0),\n",
       " ('na', 0.0),\n",
       " ('opóźnienie', 0.0),\n",
       " ('czy', 0.0),\n",
       " ('zostać', 4.1),\n",
       " ('wprowadzić', 0.0),\n",
       " ('zmiana', 0.4),\n",
       " ('w', 0.0),\n",
       " ('rozkład', 0.0),\n",
       " ('jazda', 4.0),\n",
       " ('odnośnie', 0.0),\n",
       " ('godzina', -0.5),\n",
       " ('odjazd', 0.5),\n",
       " ('bo', 0.0),\n",
       " ('obecnie', -3.5),\n",
       " ('mieć', 4.3),\n",
       " ('zmienić', 4.1),\n",
       " ('trasa', 0.6),\n",
       " ('w', 0.0),\n",
       " ('związek', -0.4),\n",
       " ('z', 0.0),\n",
       " ('przebudowa', -0.7),\n",
       " ('ulica', 0.0),\n",
       " ('obornicki', 0.0),\n",
       " ('i', 0.0),\n",
       " ('choć', 0.0),\n",
       " ('on', 0.0),\n",
       " ('trasa', 0.6),\n",
       " ('w', 0.0),\n",
       " ('kierunek', 0.0),\n",
       " ('Sępolno', 0.0),\n",
       " ('Wojnowa', 0.0),\n",
       " ('znacznie', 0.4),\n",
       " ('się', 0.0),\n",
       " ('wydłużyć', -2.0),\n",
       " ('godzina', -0.5),\n",
       " ('odjazd', 0.5),\n",
       " ('nie', 0.0),\n",
       " ('zmienić', 4.1),\n",
       " ('się', 0.0),\n",
       " ('a', 0.0),\n",
       " ('autobus', 0.0),\n",
       " ('przyjeżdżać', 0.0),\n",
       " ('zawsze', 5.7),\n",
       " ('spóźnić', 0.0),\n",
       " ('teraz', 0.0),\n",
       " ('zostać', 4.1),\n",
       " ('skierować', -1.9),\n",
       " ('objazd', 0.0),\n",
       " ('przez', 0.0),\n",
       " ('zakorkować', 0.0),\n",
       " ('Swojczycką', 0.0),\n",
       " ('CO', 0.0),\n",
       " ('znowu', 3.8),\n",
       " ('wydłużyć', -2.0),\n",
       " ('trasa', 0.6),\n",
       " ('i', 0.0),\n",
       " ('zwiększyć', -4.5),\n",
       " ('i', 0.0),\n",
       " ('tak', 0.0),\n",
       " ('już', 0.0),\n",
       " ('w', 0.0),\n",
       " ('godzina', -0.5),\n",
       " ('szczyt', 0.0),\n",
       " ('zwłaszcza', 0.0),\n",
       " ('poranny', 0.0),\n",
       " ('gigantyczny', 0.0),\n",
       " ('opóźnienie', 0.0)]"
      ]
     },
     "execution_count": 108,
     "metadata": {},
     "output_type": "execute_result"
    }
   ],
   "source": [
    "get_word_sentiment_in_text(base_df.loc[4, 'comment'])"
   ]
  },
  {
   "cell_type": "markdown",
   "metadata": {},
   "source": [
    "#### two approaches to calculate sentiment"
   ]
  },
  {
   "cell_type": "code",
   "execution_count": 114,
   "metadata": {},
   "outputs": [],
   "source": [
    "# sum sentiment\n",
    "def get_text_sentiment(text):\n",
    "    words = text.strip().split(' ')\n",
    "    return sum([get_word_sentiment(word) for word in words])"
   ]
  },
  {
   "cell_type": "code",
   "execution_count": 115,
   "metadata": {},
   "outputs": [
    {
     "data": {
      "text/plain": [
       "27.4"
      ]
     },
     "execution_count": 115,
     "metadata": {},
     "output_type": "execute_result"
    }
   ],
   "source": [
    "get_text_sentiment(base_df.loc[4, 'comment'])"
   ]
  },
  {
   "cell_type": "code",
   "execution_count": 116,
   "metadata": {},
   "outputs": [],
   "source": [
    "# mean sentiment\n",
    "def get_text_sentiment2(text):\n",
    "    words = text.strip().split(' ')\n",
    "    words_sentiment = [get_word_sentiment(word) for word in words]\n",
    "    return sum(words_sentiment)/len(words_sentiment)"
   ]
  },
  {
   "cell_type": "code",
   "execution_count": 117,
   "metadata": {},
   "outputs": [
    {
     "data": {
      "text/plain": [
       "0.38591549295774646"
      ]
     },
     "execution_count": 117,
     "metadata": {},
     "output_type": "execute_result"
    }
   ],
   "source": [
    "get_text_sentiment2(base_df.loc[4, 'comment'])"
   ]
  },
  {
   "cell_type": "code",
   "execution_count": 120,
   "metadata": {},
   "outputs": [],
   "source": [
    "base_df['sum_sentiment'] = base_df['comment'].apply(get_text_sentiment)"
   ]
  },
  {
   "cell_type": "code",
   "execution_count": 121,
   "metadata": {},
   "outputs": [],
   "source": [
    "base_df['mean_sentiment'] = base_df['comment'].apply(get_text_sentiment2)"
   ]
  },
  {
   "cell_type": "code",
   "execution_count": 125,
   "metadata": {},
   "outputs": [
    {
     "data": {
      "text/html": [
       "<div>\n",
       "<style scoped>\n",
       "    .dataframe tbody tr th:only-of-type {\n",
       "        vertical-align: middle;\n",
       "    }\n",
       "\n",
       "    .dataframe tbody tr th {\n",
       "        vertical-align: top;\n",
       "    }\n",
       "\n",
       "    .dataframe thead th {\n",
       "        text-align: right;\n",
       "    }\n",
       "</style>\n",
       "<table border=\"1\" class=\"dataframe\">\n",
       "  <thead>\n",
       "    <tr style=\"text-align: right;\">\n",
       "      <th></th>\n",
       "      <th>id</th>\n",
       "      <th>comment</th>\n",
       "      <th>sum_sentiment</th>\n",
       "      <th>mean_sentiment</th>\n",
       "    </tr>\n",
       "  </thead>\n",
       "  <tbody>\n",
       "    <tr>\n",
       "      <td>3320</td>\n",
       "      <td>5dd710e9bbb2205e91175145</td>\n",
       "      <td>straż Miajska zostać wezwać natychmiast po inf...</td>\n",
       "      <td>-15.7</td>\n",
       "      <td>-0.541379</td>\n",
       "    </tr>\n",
       "    <tr>\n",
       "      <td>3423</td>\n",
       "      <td>5dd724ddbbb2205e911753e1</td>\n",
       "      <td>by si zalorkowaly ostatnio byly test system IT...</td>\n",
       "      <td>-13.8</td>\n",
       "      <td>-0.492857</td>\n",
       "    </tr>\n",
       "    <tr>\n",
       "      <td>1131</td>\n",
       "      <td>5dd60adc093b64288e1c1f69</td>\n",
       "      <td>Stankiewicz pogorszenie w krótki czas to ja by...</td>\n",
       "      <td>-11.8</td>\n",
       "      <td>-0.218519</td>\n",
       "    </tr>\n",
       "    <tr>\n",
       "      <td>3018</td>\n",
       "      <td>5dd7042fbbb2205e91174f13</td>\n",
       "      <td>pęknąć przyczłapać bulgulatora w lewy silnik</td>\n",
       "      <td>-11.2</td>\n",
       "      <td>-1.866667</td>\n",
       "    </tr>\n",
       "    <tr>\n",
       "      <td>3591</td>\n",
       "      <td>5dd85c6a4322651b41f6ea63</td>\n",
       "      <td>gazeta wrocławski z tramwaj wypaść silnik http...</td>\n",
       "      <td>-11.1</td>\n",
       "      <td>-1.585714</td>\n",
       "    </tr>\n",
       "    <tr>\n",
       "      <td>1440</td>\n",
       "      <td>5dd67375aff40d93edbfbfb5</td>\n",
       "      <td>państwo się śmiać a to nie być taki oczywisty ...</td>\n",
       "      <td>-10.7</td>\n",
       "      <td>-0.218367</td>\n",
       "    </tr>\n",
       "    <tr>\n",
       "      <td>152</td>\n",
       "      <td>5dd52c92bea9ce7c8811b565</td>\n",
       "      <td>super dzięki wydział transport za reakcja na z...</td>\n",
       "      <td>-10.7</td>\n",
       "      <td>-1.337500</td>\n",
       "    </tr>\n",
       "    <tr>\n",
       "      <td>3309</td>\n",
       "      <td>5dd710cdbbb2205e91175139</td>\n",
       "      <td>to faktycznie trzeba szampan otworzyć ja siebi...</td>\n",
       "      <td>-10.5</td>\n",
       "      <td>-0.617647</td>\n",
       "    </tr>\n",
       "    <tr>\n",
       "      <td>1054</td>\n",
       "      <td>5dd5fc4c093b64288e1c1e37</td>\n",
       "      <td>MPK być tylko przewoznikiem wiec chyba logiczn...</td>\n",
       "      <td>-10.4</td>\n",
       "      <td>-0.520000</td>\n",
       "    </tr>\n",
       "    <tr>\n",
       "      <td>1923</td>\n",
       "      <td>5dd6db07bbb2205e91174394</td>\n",
       "      <td>tak a policja na Gądowiance zablokować minuta ...</td>\n",
       "      <td>-9.8</td>\n",
       "      <td>-0.980000</td>\n",
       "    </tr>\n",
       "  </tbody>\n",
       "</table>\n",
       "</div>"
      ],
      "text/plain": [
       "                            id  \\\n",
       "3320  5dd710e9bbb2205e91175145   \n",
       "3423  5dd724ddbbb2205e911753e1   \n",
       "1131  5dd60adc093b64288e1c1f69   \n",
       "3018  5dd7042fbbb2205e91174f13   \n",
       "3591  5dd85c6a4322651b41f6ea63   \n",
       "1440  5dd67375aff40d93edbfbfb5   \n",
       "152   5dd52c92bea9ce7c8811b565   \n",
       "3309  5dd710cdbbb2205e91175139   \n",
       "1054  5dd5fc4c093b64288e1c1e37   \n",
       "1923  5dd6db07bbb2205e91174394   \n",
       "\n",
       "                                                comment  sum_sentiment  \\\n",
       "3320  straż Miajska zostać wezwać natychmiast po inf...          -15.7   \n",
       "3423  by si zalorkowaly ostatnio byly test system IT...          -13.8   \n",
       "1131  Stankiewicz pogorszenie w krótki czas to ja by...          -11.8   \n",
       "3018      pęknąć przyczłapać bulgulatora w lewy silnik           -11.2   \n",
       "3591  gazeta wrocławski z tramwaj wypaść silnik http...          -11.1   \n",
       "1440  państwo się śmiać a to nie być taki oczywisty ...          -10.7   \n",
       "152   super dzięki wydział transport za reakcja na z...          -10.7   \n",
       "3309  to faktycznie trzeba szampan otworzyć ja siebi...          -10.5   \n",
       "1054  MPK być tylko przewoznikiem wiec chyba logiczn...          -10.4   \n",
       "1923  tak a policja na Gądowiance zablokować minuta ...           -9.8   \n",
       "\n",
       "      mean_sentiment  \n",
       "3320       -0.541379  \n",
       "3423       -0.492857  \n",
       "1131       -0.218519  \n",
       "3018       -1.866667  \n",
       "3591       -1.585714  \n",
       "1440       -0.218367  \n",
       "152        -1.337500  \n",
       "3309       -0.617647  \n",
       "1054       -0.520000  \n",
       "1923       -0.980000  "
      ]
     },
     "execution_count": 125,
     "metadata": {},
     "output_type": "execute_result"
    }
   ],
   "source": [
    "base_df.sort_values(by='sum_sentiment')[:10]"
   ]
  },
  {
   "cell_type": "code",
   "execution_count": 127,
   "metadata": {
    "scrolled": true
   },
   "outputs": [
    {
     "data": {
      "text/plain": [
       "'straż Miajska zostać wezwać natychmiast po informacja od kierowca o brak przejazd ostatecznie i tak przyjechać policja który wezwać laweta i wywieźć auto następny raz nie oceniać w ciemno '"
      ]
     },
     "execution_count": 127,
     "metadata": {},
     "output_type": "execute_result"
    }
   ],
   "source": [
    "base_df.sort_values(by='sum_sentiment').iloc[0]['comment']"
   ]
  },
  {
   "cell_type": "code",
   "execution_count": 129,
   "metadata": {},
   "outputs": [
    {
     "data": {
      "text/html": [
       "<div>\n",
       "<style scoped>\n",
       "    .dataframe tbody tr th:only-of-type {\n",
       "        vertical-align: middle;\n",
       "    }\n",
       "\n",
       "    .dataframe tbody tr th {\n",
       "        vertical-align: top;\n",
       "    }\n",
       "\n",
       "    .dataframe thead th {\n",
       "        text-align: right;\n",
       "    }\n",
       "</style>\n",
       "<table border=\"1\" class=\"dataframe\">\n",
       "  <thead>\n",
       "    <tr style=\"text-align: right;\">\n",
       "      <th></th>\n",
       "      <th>id</th>\n",
       "      <th>comment</th>\n",
       "      <th>sum_sentiment</th>\n",
       "      <th>mean_sentiment</th>\n",
       "    </tr>\n",
       "  </thead>\n",
       "  <tbody>\n",
       "    <tr>\n",
       "      <td>2430</td>\n",
       "      <td>5dd6ee52bbb2205e91174a34</td>\n",
       "      <td>Warszawa być po prosty nastawić na elastyczny ...</td>\n",
       "      <td>151.2</td>\n",
       "      <td>0.465231</td>\n",
       "    </tr>\n",
       "    <tr>\n",
       "      <td>1394</td>\n",
       "      <td>5dd67208aff40d93edbfbf85</td>\n",
       "      <td>różny przystanek to przykład to że kierowca ni...</td>\n",
       "      <td>149.4</td>\n",
       "      <td>1.114925</td>\n",
       "    </tr>\n",
       "    <tr>\n",
       "      <td>465</td>\n",
       "      <td>5dd592776af02b29ffa78df2</td>\n",
       "      <td>pełny zgoda pani Dominika dzisiaj dla większoś...</td>\n",
       "      <td>147.9</td>\n",
       "      <td>1.071739</td>\n",
       "    </tr>\n",
       "    <tr>\n",
       "      <td>400</td>\n",
       "      <td>5dd56cafa1ab399b2bea05d4</td>\n",
       "      <td>Linia C nie być dla każdy pasażer a zapoznać s...</td>\n",
       "      <td>142.3</td>\n",
       "      <td>1.111719</td>\n",
       "    </tr>\n",
       "    <tr>\n",
       "      <td>5</td>\n",
       "      <td>5dd485b2804e3d1bf0e8c42b</td>\n",
       "      <td>wszystko super tylko szkoda że zablokować być ...</td>\n",
       "      <td>124.7</td>\n",
       "      <td>1.022131</td>\n",
       "    </tr>\n",
       "    <tr>\n",
       "      <td>...</td>\n",
       "      <td>...</td>\n",
       "      <td>...</td>\n",
       "      <td>...</td>\n",
       "      <td>...</td>\n",
       "    </tr>\n",
       "    <tr>\n",
       "      <td>3591</td>\n",
       "      <td>5dd85c6a4322651b41f6ea63</td>\n",
       "      <td>gazeta wrocławski z tramwaj wypaść silnik http...</td>\n",
       "      <td>-11.1</td>\n",
       "      <td>-1.585714</td>\n",
       "    </tr>\n",
       "    <tr>\n",
       "      <td>3018</td>\n",
       "      <td>5dd7042fbbb2205e91174f13</td>\n",
       "      <td>pęknąć przyczłapać bulgulatora w lewy silnik</td>\n",
       "      <td>-11.2</td>\n",
       "      <td>-1.866667</td>\n",
       "    </tr>\n",
       "    <tr>\n",
       "      <td>1131</td>\n",
       "      <td>5dd60adc093b64288e1c1f69</td>\n",
       "      <td>Stankiewicz pogorszenie w krótki czas to ja by...</td>\n",
       "      <td>-11.8</td>\n",
       "      <td>-0.218519</td>\n",
       "    </tr>\n",
       "    <tr>\n",
       "      <td>3423</td>\n",
       "      <td>5dd724ddbbb2205e911753e1</td>\n",
       "      <td>by si zalorkowaly ostatnio byly test system IT...</td>\n",
       "      <td>-13.8</td>\n",
       "      <td>-0.492857</td>\n",
       "    </tr>\n",
       "    <tr>\n",
       "      <td>3320</td>\n",
       "      <td>5dd710e9bbb2205e91175145</td>\n",
       "      <td>straż Miajska zostać wezwać natychmiast po inf...</td>\n",
       "      <td>-15.7</td>\n",
       "      <td>-0.541379</td>\n",
       "    </tr>\n",
       "  </tbody>\n",
       "</table>\n",
       "<p>3870 rows × 4 columns</p>\n",
       "</div>"
      ],
      "text/plain": [
       "                            id  \\\n",
       "2430  5dd6ee52bbb2205e91174a34   \n",
       "1394  5dd67208aff40d93edbfbf85   \n",
       "465   5dd592776af02b29ffa78df2   \n",
       "400   5dd56cafa1ab399b2bea05d4   \n",
       "5     5dd485b2804e3d1bf0e8c42b   \n",
       "...                        ...   \n",
       "3591  5dd85c6a4322651b41f6ea63   \n",
       "3018  5dd7042fbbb2205e91174f13   \n",
       "1131  5dd60adc093b64288e1c1f69   \n",
       "3423  5dd724ddbbb2205e911753e1   \n",
       "3320  5dd710e9bbb2205e91175145   \n",
       "\n",
       "                                                comment  sum_sentiment  \\\n",
       "2430  Warszawa być po prosty nastawić na elastyczny ...          151.2   \n",
       "1394  różny przystanek to przykład to że kierowca ni...          149.4   \n",
       "465   pełny zgoda pani Dominika dzisiaj dla większoś...          147.9   \n",
       "400   Linia C nie być dla każdy pasażer a zapoznać s...          142.3   \n",
       "5     wszystko super tylko szkoda że zablokować być ...          124.7   \n",
       "...                                                 ...            ...   \n",
       "3591  gazeta wrocławski z tramwaj wypaść silnik http...          -11.1   \n",
       "3018      pęknąć przyczłapać bulgulatora w lewy silnik           -11.2   \n",
       "1131  Stankiewicz pogorszenie w krótki czas to ja by...          -11.8   \n",
       "3423  by si zalorkowaly ostatnio byly test system IT...          -13.8   \n",
       "3320  straż Miajska zostać wezwać natychmiast po inf...          -15.7   \n",
       "\n",
       "      mean_sentiment  \n",
       "2430        0.465231  \n",
       "1394        1.114925  \n",
       "465         1.071739  \n",
       "400         1.111719  \n",
       "5           1.022131  \n",
       "...              ...  \n",
       "3591       -1.585714  \n",
       "3018       -1.866667  \n",
       "1131       -0.218519  \n",
       "3423       -0.492857  \n",
       "3320       -0.541379  \n",
       "\n",
       "[3870 rows x 4 columns]"
      ]
     },
     "execution_count": 129,
     "metadata": {},
     "output_type": "execute_result"
    }
   ],
   "source": [
    "base_df.sort_values(by='sum_sentiment', ascending=False)"
   ]
  },
  {
   "cell_type": "code",
   "execution_count": null,
   "metadata": {},
   "outputs": [],
   "source": []
  },
  {
   "cell_type": "markdown",
   "metadata": {},
   "source": [
    "##  Use polyglot to get polarity"
   ]
  },
  {
   "cell_type": "code",
   "execution_count": 144,
   "metadata": {},
   "outputs": [],
   "source": [
    "from polyglot.text import Text\n",
    "import preprocessor as preprocessor"
   ]
  },
  {
   "cell_type": "code",
   "execution_count": 150,
   "metadata": {},
   "outputs": [],
   "source": [
    "def get_polarity(phrase):\n",
    "    try:\n",
    "        phrase = preprocessor.clean(phrase) \n",
    "        return Text(phrase).polarity\n",
    "    except:\n",
    "        return 0"
   ]
  },
  {
   "cell_type": "code",
   "execution_count": 155,
   "metadata": {},
   "outputs": [
    {
     "data": {
      "text/plain": [
       "0.14285714285714285"
      ]
     },
     "execution_count": 155,
     "metadata": {},
     "output_type": "execute_result"
    }
   ],
   "source": [
    "get_polarity(list(comments_sheet.loc[comments_sheet['id'] == com_id, 'cleaned_comment_without_username'])[0])"
   ]
  },
  {
   "cell_type": "code",
   "execution_count": 157,
   "metadata": {},
   "outputs": [],
   "source": [
    "base_df['polarity'] = base_df['comment'].apply(get_polarity)"
   ]
  },
  {
   "cell_type": "code",
   "execution_count": 158,
   "metadata": {},
   "outputs": [],
   "source": [
    "base_df.to_excel('results.xlsx')"
   ]
  },
  {
   "cell_type": "code",
   "execution_count": 159,
   "metadata": {},
   "outputs": [],
   "source": [
    "base_df['polarity_nonbase'] = comments_sheet['cleaned_comment_without_username'].apply(get_polarity)"
   ]
  },
  {
   "cell_type": "code",
   "execution_count": 161,
   "metadata": {},
   "outputs": [],
   "source": [
    "base_df['comment_nonbase'] = comments_sheet['cleaned_comment_without_username']"
   ]
  },
  {
   "cell_type": "code",
   "execution_count": 162,
   "metadata": {},
   "outputs": [],
   "source": [
    "base_df.to_excel('results.xlsx')"
   ]
  },
  {
   "cell_type": "code",
   "execution_count": null,
   "metadata": {},
   "outputs": [],
   "source": []
  },
  {
   "cell_type": "markdown",
   "metadata": {},
   "source": [
    "## Fasttext model"
   ]
  },
  {
   "cell_type": "code",
   "execution_count": 171,
   "metadata": {},
   "outputs": [],
   "source": [
    "import fasttext"
   ]
  },
  {
   "cell_type": "code",
   "execution_count": 168,
   "metadata": {},
   "outputs": [
    {
     "data": {
      "text/plain": [
       "array([ 0., -1.,  1.])"
      ]
     },
     "execution_count": 168,
     "metadata": {},
     "output_type": "execute_result"
    }
   ],
   "source": [
    "c_df = comments_sheet[comments_sheet['label'].notnull()]"
   ]
  },
  {
   "cell_type": "code",
   "execution_count": 169,
   "metadata": {},
   "outputs": [],
   "source": [
    "label_prefix = '__label__'\n",
    "with open('labeled_comments', 'w') as file:\n",
    "    for index, row in c_df.iterrows():\n",
    "        file.write(label_prefix + str(int(row['label'])) + ' ')\n",
    "        file.write(row['cleaned_comment_without_username'].replace('\\n', ' '))\n",
    "        file.write('\\n')"
   ]
  },
  {
   "cell_type": "code",
   "execution_count": 172,
   "metadata": {},
   "outputs": [],
   "source": [
    "model = fasttext.train_supervised(input=\"labeled_comments\", epoch=25, lr=1.0, wordNgrams=2)"
   ]
  },
  {
   "cell_type": "code",
   "execution_count": 183,
   "metadata": {},
   "outputs": [],
   "source": [
    "def make_prediction(text):\n",
    "    prediction = model.predict(str(text))\n",
    "    return prediction[0][0]"
   ]
  },
  {
   "cell_type": "code",
   "execution_count": 184,
   "metadata": {},
   "outputs": [],
   "source": [
    "def get_prediction_prob(text):\n",
    "    prediction = model.predict(str(text))\n",
    "    return prediction[1][0]"
   ]
  },
  {
   "cell_type": "code",
   "execution_count": 185,
   "metadata": {},
   "outputs": [],
   "source": [
    "base_df['fasttext_prediction'] = comments_sheet['cleaned_comment_without_username'].apply(make_prediction)"
   ]
  },
  {
   "cell_type": "code",
   "execution_count": 186,
   "metadata": {},
   "outputs": [],
   "source": [
    "base_df['fasttext_prob'] = comments_sheet['cleaned_comment_without_username'].apply(get_prediction_prob)"
   ]
  },
  {
   "cell_type": "code",
   "execution_count": 187,
   "metadata": {},
   "outputs": [],
   "source": [
    "base_df.to_excel('results.xlsx')"
   ]
  },
  {
   "cell_type": "code",
   "execution_count": null,
   "metadata": {},
   "outputs": [],
   "source": []
  }
 ],
 "metadata": {
  "kernelspec": {
   "display_name": "Python 3",
   "language": "python",
   "name": "python3"
  },
  "language_info": {
   "codemirror_mode": {
    "name": "ipython",
    "version": 3
   },
   "file_extension": ".py",
   "mimetype": "text/x-python",
   "name": "python",
   "nbconvert_exporter": "python",
   "pygments_lexer": "ipython3",
   "version": "3.7.4"
  }
 },
 "nbformat": 4,
 "nbformat_minor": 2
}
