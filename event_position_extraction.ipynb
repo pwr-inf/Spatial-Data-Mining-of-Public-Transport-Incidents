{
 "cells": [
  {
   "cell_type": "markdown",
   "metadata": {
    "colab_type": "text",
    "id": "Q6RdfrB_qDbQ"
   },
   "source": [
    "# Automatic event position extraction from a post\n",
    "\n",
    "Methodology:\n",
    "\n",
    "1. Find all posts / tweets with an #AlertMPK hashtag, because only them notified users about accidents.\n",
    "2. Using regex, tokenize posts and find adresses. Adresses are (almost) always written using capital letters. If two words have its first letter capitalized and are separated by space, they are combined in a one group. List of keywords if used to clean posts from commonly used words (for ex. tramwaje, Brak, Informujemy, ...)  \n",
    "Examples of post texts:\n",
    "```\n",
    "Brak przejazdu przy pl. Legionów - pomoc medyczna dla pasażera.\n",
    "🚋 Tramwaje linii 0L, 24>FAT, 31, 32>GAJ skierowano objazdem od pl. Orląt Lwowskich przez ul. Podwale, Sądową do pl. Legionów.\n",
    "#Extracted adresses: Legionów, FAT, GAJ, Orląt Lwowskich, Podwale, Sądową, Legionów\n",
    "```\n",
    "```\n",
    "Ul. Gliniana/Gajowa>Gaj - kolizja samochodu z tramwajem.\n",
    "🚋 Tramwaje linii 8 skierowano do Parku Południowego.\n",
    "🚋 Tramwaje linii 31 i 32 skierowano do Zajezdni I (Uniwersytet Ekonomiczny).\n",
    "#Extracted adresses: Gliniana, Gajowa, Gaj, Parku Południowego, Uniwersytet Ekonomiczny\n",
    "```\n",
    "\n",
    "3. Using publicly available list of stops and all adresses in Wrocław, extracted list of adresses is matched with lists. First matched address is considered an event position.  \n",
    "Matching algorithm:\n",
    "    1. Match extracted string with list of all stops. If matched, return stop name and its position.\n",
    "    2. Calculate similarity of string to each stop. Sort by value and matched return most similar with it's position if similarity value is higher than threshold of 0.8.\n",
    "    3. Calculate similarity of string to each addresss. Sort by value and return most similar if similarity value is higher than threshold of 0.7. Query position of street using open street maps.\n",
    "\n",
    "\n",
    "### Used libraries:\n",
    "* difflib - calculates similarity between strings\n",
    "* geopy - queries position using open street maps\n"
   ]
  },
  {
   "cell_type": "code",
   "execution_count": null,
   "metadata": {
    "colab": {},
    "colab_type": "code",
    "id": "G_YZ0LbrRkk7"
   },
   "outputs": [],
   "source": [
    "import json\n",
    "import csv\n",
    "from collections import OrderedDict\n",
    "import re\n",
    "import pandas as pd\n",
    "from geopy.geocoders import Nominatim"
   ]
  },
  {
   "cell_type": "code",
   "execution_count": null,
   "metadata": {
    "colab": {},
    "colab_type": "code",
    "id": "vTbD_sevRknh"
   },
   "outputs": [],
   "source": [
    "with open('data/WRO_Ulice.txt', 'r') as f:\n",
    "    streets = list(OrderedDict.fromkeys([s.strip().lower() for s in f.readlines()]))"
   ]
  },
  {
   "cell_type": "code",
   "execution_count": 137,
   "metadata": {
    "colab": {
     "base_uri": "https://localhost:8080/",
     "height": 35
    },
    "colab_type": "code",
    "executionInfo": {
     "elapsed": 547,
     "status": "ok",
     "timestamp": 1575036604320,
     "user": {
      "displayName": "Kamil Raczycki",
      "photoUrl": "https://lh3.googleusercontent.com/a-/AAuE7mA718H70CVk-eND3a07UW6RVyTMAj0CUw0NpHxH=s64",
      "userId": "01297168933823358762"
     },
     "user_tz": -60
    },
    "id": "-z1XGjknShZA",
    "outputId": "a15d4a6f-26de-4c0d-f4f0-32916fa8b945"
   },
   "outputs": [
    {
     "name": "stdout",
     "output_type": "stream",
     "text": [
      "2315\n"
     ]
    }
   ],
   "source": [
    "print(len(streets))"
   ]
  },
  {
   "cell_type": "code",
   "execution_count": 138,
   "metadata": {
    "colab": {
     "base_uri": "https://localhost:8080/",
     "height": 197
    },
    "colab_type": "code",
    "executionInfo": {
     "elapsed": 366,
     "status": "ok",
     "timestamp": 1575036605283,
     "user": {
      "displayName": "Kamil Raczycki",
      "photoUrl": "https://lh3.googleusercontent.com/a-/AAuE7mA718H70CVk-eND3a07UW6RVyTMAj0CUw0NpHxH=s64",
      "userId": "01297168933823358762"
     },
     "user_tz": -60
    },
    "id": "-jT0tBR7Rkp6",
    "outputId": "971fa865-90e5-4294-cb8d-4240f14f0f62"
   },
   "outputs": [
    {
     "data": {
      "text/plain": [
       "['abrahama',\n",
       " 'abramowskiego',\n",
       " 'adamczewskich',\n",
       " 'adamieckiego',\n",
       " 'admiralska',\n",
       " 'afgańska',\n",
       " 'agatowa',\n",
       " 'agrestowa',\n",
       " 'akacjowa',\n",
       " 'alberta']"
      ]
     },
     "execution_count": 138,
     "metadata": {
      "tags": []
     },
     "output_type": "execute_result"
    }
   ],
   "source": [
    "streets[:10]"
   ]
  },
  {
   "cell_type": "code",
   "execution_count": null,
   "metadata": {
    "colab": {},
    "colab_type": "code",
    "id": "bbfYSWUsUahM"
   },
   "outputs": [],
   "source": [
    "with open('data/MPK_stops.txt', 'r') as f:\n",
    "    reader = csv.DictReader(f, delimiter=',', quotechar='\"')\n",
    "    stops = {row['stop_name'].lower():(row['stop_lat'], row['stop_lon']) for row in reader}"
   ]
  },
  {
   "cell_type": "code",
   "execution_count": 134,
   "metadata": {
    "colab": {
     "base_uri": "https://localhost:8080/",
     "height": 35
    },
    "colab_type": "code",
    "executionInfo": {
     "elapsed": 672,
     "status": "ok",
     "timestamp": 1575036574367,
     "user": {
      "displayName": "Kamil Raczycki",
      "photoUrl": "https://lh3.googleusercontent.com/a-/AAuE7mA718H70CVk-eND3a07UW6RVyTMAj0CUw0NpHxH=s64",
      "userId": "01297168933823358762"
     },
     "user_tz": -60
    },
    "id": "gy8Ldj1iVGGL",
    "outputId": "160e9a8e-ede3-4c74-89bd-79c2e5045e98"
   },
   "outputs": [
    {
     "name": "stdout",
     "output_type": "stream",
     "text": [
      "862\n"
     ]
    }
   ],
   "source": [
    "print(len(stops.keys()))"
   ]
  },
  {
   "cell_type": "code",
   "execution_count": 135,
   "metadata": {
    "colab": {
     "base_uri": "https://localhost:8080/",
     "height": 55
    },
    "colab_type": "code",
    "executionInfo": {
     "elapsed": 743,
     "status": "ok",
     "timestamp": 1575036575571,
     "user": {
      "displayName": "Kamil Raczycki",
      "photoUrl": "https://lh3.googleusercontent.com/a-/AAuE7mA718H70CVk-eND3a07UW6RVyTMAj0CUw0NpHxH=s64",
      "userId": "01297168933823358762"
     },
     "user_tz": -60
    },
    "id": "bjTzCXm0fbFo",
    "outputId": "9044e9b1-8da2-4f28-bb66-1e5baada3708"
   },
   "outputs": [
    {
     "name": "stdout",
     "output_type": "stream",
     "text": [
      "['wzgórze partyzantów', 'zoo', 'metalowców', 'bojanowska', '8 maja', 'głogowska', 'główna', 'bujwida', 'strachowice general aviation', 'nowy dwór (rogowska)']\n"
     ]
    }
   ],
   "source": [
    "print(list(stops.keys())[:10])"
   ]
  },
  {
   "cell_type": "code",
   "execution_count": null,
   "metadata": {
    "colab": {},
    "colab_type": "code",
    "id": "_30GlZX8Sm_d"
   },
   "outputs": [],
   "source": [
    "facebook_texts = pd.read_json('data/alert_mpk_facebook_posts.json', lines=True)\n",
    "facebook_texts = facebook_texts[facebook_texts['text'].str.contains(\"#AlertMPK\")]\n",
    "facebook_texts = facebook_texts['text'].tolist()\n",
    "facebook_texts = [re.sub(r\"#(\\w+)\", '', t, flags=re.MULTILINE) for t in facebook_texts]\n",
    "facebook_texts = [re.sub(r\"@(\\w+)\", '', t, flags=re.MULTILINE) for t in facebook_texts]\n",
    "\n",
    "with open('data/AlertMPK_tweets.json', 'r') as f:\n",
    "    twitter_tweets = [json.loads(l) for l in f.readlines() if \"#AlertMPK\" in l]\n",
    "    twitter_texts = [tweet['tweet'] for tweet in twitter_tweets]\n",
    "    twitter_texts = [re.sub(r\"#(\\w+)\", '', t, flags=re.MULTILINE) for t in twitter_texts]\n",
    "    twitter_texts = [re.sub(r\"@(\\w+)\", '', t, flags=re.MULTILINE) for t in twitter_texts]"
   ]
  },
  {
   "cell_type": "code",
   "execution_count": 86,
   "metadata": {
    "colab": {
     "base_uri": "https://localhost:8080/",
     "height": 53
    },
    "colab_type": "code",
    "executionInfo": {
     "elapsed": 564,
     "status": "ok",
     "timestamp": 1575035917935,
     "user": {
      "displayName": "Kamil Raczycki",
      "photoUrl": "https://lh3.googleusercontent.com/a-/AAuE7mA718H70CVk-eND3a07UW6RVyTMAj0CUw0NpHxH=s64",
      "userId": "01297168933823358762"
     },
     "user_tz": -60
    },
    "id": "zNJTx_oATNgX",
    "outputId": "7d8222ae-9e10-445a-c6b7-894ae37400d2"
   },
   "outputs": [
    {
     "name": "stdout",
     "output_type": "stream",
     "text": [
      "628\n",
      "4630\n"
     ]
    }
   ],
   "source": [
    "print(len(facebook_texts))\n",
    "print(len(twitter_texts))"
   ]
  },
  {
   "cell_type": "code",
   "execution_count": 70,
   "metadata": {
    "colab": {
     "base_uri": "https://localhost:8080/",
     "height": 217
    },
    "colab_type": "code",
    "executionInfo": {
     "elapsed": 517,
     "status": "ok",
     "timestamp": 1575035678127,
     "user": {
      "displayName": "Kamil Raczycki",
      "photoUrl": "https://lh3.googleusercontent.com/a-/AAuE7mA718H70CVk-eND3a07UW6RVyTMAj0CUw0NpHxH=s64",
      "userId": "01297168933823358762"
     },
     "user_tz": -60
    },
    "id": "8MLPEetiT5Sq",
    "outputId": "736aefbd-dbc4-47da-aac6-8c39d4a6b03d"
   },
   "outputs": [
    {
     "data": {
      "text/plain": [
       "[' ul. Legnicka - ruch przywrócony. Tramwaje wracają na stałe trasy przejazdu.',\n",
       " ' - \\n⚠ Ul. Legnicka/Kwiska>pl. Jana Pawła II - awaria tramwaju.\\n🚋 Tramwaje linii 3, 10, 20, 23, 33 zawracają przez Most Pomorski, Pomorską, Dubois, Most Sikorskiego.\\n🚋 Tramwaje linii 31 i 32 zawracają na Mostach Mieszczańskich.',\n",
       " ' ul. Kosmonautów - ruch przywrócony. Tramwaje wracają na stałe trasy przejazdu.',\n",
       " ' - \\n⚠ Ul. Kosmonautów - awaria tramwaju. \\n🚋 Tramwaje linii 3, 10, 20 skrócono do pętli Pilczyce.\\n🚌 Uruchomiono autobusy \"za tramwaj\" w relacji Pilczyce - Leśnica.',\n",
       " ' ul. Legnicka/Na Ostatnim Groszu- ruch przywrócony. Tramwaje wracają na stałe trasy przejazdu.',\n",
       " ' \\n⚠️ ul. Legnicka/ Na ostatnim groszu - brak przejazdu z powodu wypadku bez udziału pojazdów MPK. \\n🚋 Tramwaje skierowano ruchem wahadłowym w relacji Kozanów>Pilczyce. \\n🚌 Uruchomiono autobusy \"za tramwaj\" w relacji Kwiska>Pilczyce.',\n",
       " ' ul. Sienkiewicza - ruch przywrócony. Tramwaje wracają na stałe trasy przejazdu.',\n",
       " ' \\n⚠️ ul. Sienkiewicza - brak przejazdu .\\n🚋 Tramwaje linii 9,17 skierowano objazdem przez pl. Bema, Jedności Narodowej, Nowowiejską, Piastowską w obu kierunkach. \\n🚌 Uruchomiono autobusy \"za tramwaj\".',\n",
       " ' ul. Robotnicza - ruch przywrócony. Autobusy wracają na stałe trasy przejazdu.',\n",
       " ' ul. Piłsudskiego - ruch przywrócony. Tramwaje wracają na stałe trasy przejazdu.']"
      ]
     },
     "execution_count": 70,
     "metadata": {
      "tags": []
     },
     "output_type": "execute_result"
    }
   ],
   "source": [
    "twitter_texts[:10]"
   ]
  },
  {
   "cell_type": "code",
   "execution_count": null,
   "metadata": {
    "colab": {},
    "colab_type": "code",
    "id": "l52-90xceMXN"
   },
   "outputs": [],
   "source": [
    "bus_lines = ['a', 'c', 'd', 'k', 'n', 'e', 'i']"
   ]
  },
  {
   "cell_type": "code",
   "execution_count": null,
   "metadata": {
    "colab": {},
    "colab_type": "code",
    "id": "7uqv-qkhedGl"
   },
   "outputs": [],
   "source": [
    "tram_lines = ['t1', 't2', 't3', 't4', 't5', 't6', 't7', 't8', 't9']"
   ]
  },
  {
   "cell_type": "code",
   "execution_count": null,
   "metadata": {
    "colab": {},
    "colab_type": "code",
    "id": "uXQ04vawcbr7"
   },
   "outputs": [],
   "source": [
    "keywords = [\n",
    "    'tramwaje',\n",
    "    'autobusy',\n",
    "    'uruchomiono',\n",
    "    'ul', 'al', 'pl', 'mpk',\n",
    "    'aktualizacja',\n",
    "    'ruch', 'brak', 'w',\n",
    "    'informujemy',\n",
    "    'na', 'z' , 'see',\n",
    "    'linie', 'linia',\n",
    "    'celem', 'możliwe',\n",
    "    'wprowadzono'\n",
    "]"
   ]
  },
  {
   "cell_type": "code",
   "execution_count": null,
   "metadata": {
    "colab": {},
    "colab_type": "code",
    "id": "VaYv7VvJZ5g3"
   },
   "outputs": [],
   "source": [
    "regex = re.compile(r'(?:\\b[A-Z\\u0141\\u015A\\u0179\\u017B].*?\\b)+(?: (?:\\b[A-Z\\u0141\\u015A\\u0179\\u017B].*?\\b)+)*')"
   ]
  },
  {
   "cell_type": "code",
   "execution_count": null,
   "metadata": {
    "colab": {},
    "colab_type": "code",
    "id": "m8zOspcxTs8C"
   },
   "outputs": [],
   "source": [
    "def find_groups(text):\n",
    "    groups = [g.lower() for g in re.findall(regex, text) if not g.lower() in keywords + bus_lines + tram_lines]\n",
    "    if not groups:\n",
    "      print(text)\n",
    "    # print(groups)\n",
    "    return groups"
   ]
  },
  {
   "cell_type": "code",
   "execution_count": null,
   "metadata": {
    "colab": {},
    "colab_type": "code",
    "id": "K2Nb1UDWacj1"
   },
   "outputs": [],
   "source": [
    "for text in facebook_texts[50:100]:\n",
    "    find_groups(text)"
   ]
  },
  {
   "cell_type": "code",
   "execution_count": null,
   "metadata": {
    "colab": {},
    "colab_type": "code",
    "id": "UFwaDlZ6Mg8Z"
   },
   "outputs": [],
   "source": [
    "from difflib import SequenceMatcher\n",
    "address_similarity_threshold = 0.7\n",
    "stop_similarity_threshold = 0.8"
   ]
  },
  {
   "cell_type": "code",
   "execution_count": null,
   "metadata": {
    "colab": {},
    "colab_type": "code",
    "id": "wK1fgev5f32s"
   },
   "outputs": [],
   "source": [
    "class AddressResult:\n",
    "    name: str = None\n",
    "    lat: float = None\n",
    "    lon: float = None\n",
    "\n",
    "    def __str__(self):\n",
    "        return f\"{self.name} [{self.lat}, {self.lon}]\""
   ]
  },
  {
   "cell_type": "code",
   "execution_count": null,
   "metadata": {
    "colab": {},
    "colab_type": "code",
    "id": "30RbM9OegVbK"
   },
   "outputs": [],
   "source": [
    "def match_address(address):\n",
    "    matches = [(existing_addr, SequenceMatcher(None, address, existing_addr).ratio()) for existing_addr in streets if existing_addr.startswith(address[0])]\n",
    "    matches = sorted(matches, key=lambda x: x[1], reverse=True)\n",
    "    matches_thresholded = [m for m in matches if m[1] > address_similarity_threshold]\n",
    "    # print(matches[:10])\n",
    "    if matches_thresholded:\n",
    "      return matches_thresholded[0][0]\n",
    "    return None"
   ]
  },
  {
   "cell_type": "code",
   "execution_count": null,
   "metadata": {
    "colab": {},
    "colab_type": "code",
    "id": "Iyt8hf4Bk9lN"
   },
   "outputs": [],
   "source": [
    "def match_stop(address):\n",
    "    matches = [(existing_stop, SequenceMatcher(None, address, existing_stop).ratio()) for existing_stop in stops.keys()]\n",
    "    matches = sorted(matches, key=lambda x: x[1], reverse=True)\n",
    "    matches_thresholded = [m for m in matches if m[1] > stop_similarity_threshold]\n",
    "    # print(matches[:10])\n",
    "    if matches_thresholded:\n",
    "      return matches_thresholded[0][0]\n",
    "    return None"
   ]
  },
  {
   "cell_type": "code",
   "execution_count": null,
   "metadata": {
    "colab": {},
    "colab_type": "code",
    "id": "2g6g3lnboiET"
   },
   "outputs": [],
   "source": [
    "def get_address_position(address):\n",
    "    geolocator = Nominatim()\n",
    "    loc = geolocator.geocode(f\"{address},Wrocław,PL\")\n",
    "    return loc.latitude, loc.longitude"
   ]
  },
  {
   "cell_type": "code",
   "execution_count": null,
   "metadata": {
    "colab": {},
    "colab_type": "code",
    "id": "_Z-GFq7afWGx"
   },
   "outputs": [],
   "source": [
    "def parse_address(address):\n",
    "    # print(\"matching:\", address)\n",
    "    result = AddressResult()\n",
    "    if address in stops.keys():\n",
    "        # print(\"found stop:\", address)\n",
    "        result.name = address\n",
    "        result.lat = stops[address][0]\n",
    "        result.lon = stops[address][1]\n",
    "        return result \n",
    "    matched_stop = match_stop(address)\n",
    "    if matched_stop:\n",
    "        # print('matched stop:', matched_stop)\n",
    "        result.name = matched_stop\n",
    "        result.lat = stops[matched_stop][0]\n",
    "        result.lon = stops[matched_stop][1]\n",
    "        return result \n",
    "    matched_address = match_address(address)\n",
    "    if not matched_address:\n",
    "        print('Error finding address:', address)\n",
    "        return None\n",
    "    # print(\"matched address:\", matched_address)\n",
    "    result.name = matched_address\n",
    "    result.lat, result.lon = get_address_position(matched_address)\n",
    "    return result"
   ]
  },
  {
   "cell_type": "code",
   "execution_count": null,
   "metadata": {
    "colab": {},
    "colab_type": "code",
    "id": "CppzRyzBh3-Y"
   },
   "outputs": [],
   "source": [
    "def parse_groups(groups):\n",
    "    result = None\n",
    "    for gr in groups:\n",
    "        result = parse_address(gr)\n",
    "        if result is not None:\n",
    "            return result"
   ]
  },
  {
   "cell_type": "code",
   "execution_count": 239,
   "metadata": {
    "colab": {
     "base_uri": "https://localhost:8080/",
     "height": 1000
    },
    "colab_type": "code",
    "executionInfo": {
     "elapsed": 9158,
     "status": "ok",
     "timestamp": 1575038998962,
     "user": {
      "displayName": "Kamil Raczycki",
      "photoUrl": "https://lh3.googleusercontent.com/a-/AAuE7mA718H70CVk-eND3a07UW6RVyTMAj0CUw0NpHxH=s64",
      "userId": "01297168933823358762"
     },
     "user_tz": -60
    },
    "id": "jKNqCCLAiRf7",
    "outputId": "9f793be9-9273-43a3-8191-4f71d7920b9c"
   },
   "outputs": [
    {
     "name": "stdout",
     "output_type": "stream",
     "text": [
      "matching: powstańców śl\n",
      "matched address: powstańców śląskich\n"
     ]
    },
    {
     "name": "stderr",
     "output_type": "stream",
     "text": [
      "/usr/local/lib/python3.6/dist-packages/geopy/geocoders/osm.py:143: UserWarning: Using Nominatim with the default \"geopy/1.17.0\" `user_agent` is strongly discouraged, as it violates Nominatim's ToS https://operations.osmfoundation.org/policies/nominatim/ and may possibly cause 403 and 429 HTTP errors. Please specify a custom `user_agent` with `Nominatim(user_agent=\"my-application\")` or by overriding the default `user_agent`: `geopy.geocoders.options.default_user_agent = \"my-application\"`. In geopy 2.0 this will become an exception.\n",
      "  UserWarning\n"
     ]
    },
    {
     "name": "stdout",
     "output_type": "stream",
     "text": [
      "powstańców śląskich [51.0931937, 17.0207054]\n",
      "matching: bałtycka\n",
      "found stop: bałtycka\n",
      "bałtycka [51.1382819000, 17.0293741400]\n",
      "matching: kajdasza\n",
      "found stop: kajdasza\n",
      "kajdasza [51.0536790000, 17.0579230000]\n",
      "matching: karłowice\n",
      "found stop: karłowice\n",
      "karłowice [51.1342531700, 17.0371479900]\n",
      "matching: przyjaźni\n",
      "found stop: przyjaźni\n",
      "przyjaźni [51.0685463800, 17.0032825400]\n",
      "matching: piłsudskiego\n",
      "found stop: piłsudskiego\n",
      "piłsudskiego [51.1018217400, 17.0247599100]\n",
      "matching: zajezdni gaj\n",
      "matched stop: zajezdnia gaj\n",
      "zajezdnia gaj [51.0892658800, 51.0892658800]\n",
      "matching: grabiszyńska\n",
      "found stop: grabiszyńska\n",
      "grabiszyńska [51.1024615200, 17.0145108900]\n",
      "matching: pomorska\n",
      "found stop: pomorska\n",
      "pomorska [51.1180575500, 17.0305601600]\n",
      "matching: brodzka\n",
      "found stop: brodzka\n",
      "brodzka [51.1581602600, 16.9223663000]\n",
      "matching: legnicka\n",
      "matched address: legnicka\n",
      "legnicka [51.1131612, 17.0078288]\n",
      "matching: podwale\n",
      "matched address: podwale\n",
      "podwale [51.1039523, 17.0410579]\n",
      "matching: legnicka\n",
      "matched address: legnicka\n",
      "legnicka [51.1131612, 17.0078288]\n",
      "matching: powstańców śląskich\n",
      "matched address: powstańców śląskich\n",
      "powstańców śląskich [51.0931937, 17.0207054]\n",
      "matching: galeria dominikańska\n",
      "found stop: galeria dominikańska\n",
      "galeria dominikańska [51.1085276100, 17.0387922100]\n",
      "matching: powstańców śląskich\n",
      "matched address: powstańców śląskich\n",
      "powstańców śląskich [51.0931937, 17.0207054]\n",
      "matching: mickiewicza\n",
      "found stop: mickiewicza\n",
      "mickiewicza [51.1085166800, 17.0726607600]\n",
      "matching: most grunwaldzki\n",
      "found stop: most grunwaldzki\n",
      "most grunwaldzki [51.1102121600, 17.0553848800]\n",
      "matching: kosmonautów\n",
      "matched address: kosmonautów\n",
      "kosmonautów [51.1255556, 16.9705556]\n",
      "matching: przyjaźni\n",
      "found stop: przyjaźni\n",
      "przyjaźni [51.0685463800, 17.0032825400]\n",
      "matching: reymonta\n",
      "matched address: reymonta\n",
      "reymonta [51.1262473, 17.0278568]\n",
      "matching: trzebnicka\n",
      "found stop: trzebnicka\n",
      "trzebnicka [51.1281340600, 17.0366644300]\n",
      "matching: most warszawski\n",
      "matched stop: mosty warszawskie\n",
      "mosty warszawskie [51.1280013700, 51.1280013700]\n",
      "matching: mickiewicza\n",
      "found stop: mickiewicza\n",
      "mickiewicza [51.1085166800, 17.0726607600]\n",
      "matching: lotnicza\n",
      "matched address: lotnicza\n",
      "lotnicza [51.1382551, 16.9394559]\n",
      "matching: poświętne\n",
      "found stop: poświętne\n",
      "poświętne [51.1502881500, 17.0287073600]\n",
      "matching: komunikacja\n",
      "Error finding address: komunikacja\n",
      "matching: zawieszone\n",
      "Error finding address: zawieszone\n",
      "matching: iwin\n",
      "Error finding address: iwin\n",
      "Error parsing post:  -  - \n",
      "📣❄ W okresie ferii zimowych tj. w dniach od 28 stycznia do 10 lutego 2019 roku zostaną wprowadzone następujące zmiany w rozkładach jazdy:\n",
      "👉 Komunikacja tramwajowa i autobusowa będzie kursowała wg szkolnych rozkładów jazdy.\n",
      "👉 Zawieszone zostaną kursy szkolne do Iwin, realizowane przez autobusy linii 133.\n",
      "Debug ['komunikacja', 'zawieszone', 'iwin']\n",
      "matching: armii krajowej\n",
      "found stop: armii krajowej\n",
      "armii krajowej [51.0875014300, 17.0682828700]\n",
      "matching: strachocińska\n",
      "matched address: strachocińska\n",
      "strachocińska [51.1122555, 17.1361728]\n",
      "matching: podwale\n",
      "matched address: podwale\n",
      "podwale [51.1039523, 17.0410579]\n",
      "matching: bałtycka\n",
      "found stop: bałtycka\n",
      "bałtycka [51.1382819000, 17.0293741400]\n",
      "matching: powstańców śląskich\n",
      "matched address: powstańców śląskich\n",
      "powstańców śląskich [51.0931937, 17.0207054]\n",
      "matching: konduktorska\n",
      "found stop: konduktorska\n",
      "konduktorska [51.0655650000, 17.0550560000]\n",
      "matching: blacharska\n",
      "found stop: blacharska\n",
      "blacharska [51.0821011300, 16.9896025300]\n",
      "matching: pułaskiego\n",
      "found stop: pułaskiego\n",
      "pułaskiego [51.0986714900, 17.0439781800]\n",
      "matching: kwidzyńska\n",
      "found stop: kwidzyńska\n",
      "kwidzyńska [51.1305853100, 17.0783376700]\n",
      "matching: teatralna\n",
      "matched address: teatralna\n",
      "teatralna [51.1053035, 17.0349031]\n",
      "matching: most osobowicki\n",
      "found stop: most osobowicki\n",
      "most osobowicki [51.1330474500, 17.0275404900]\n",
      "matching: księża małego\n",
      "matched stop: księże małe\n",
      "księże małe [51.0772781900, 51.0772781900]\n",
      "matching: piaskowej\n",
      "matched address: piaskowa\n",
      "piaskowa [51.1118691, 17.0392861]\n",
      "matching: blacharska\n",
      "found stop: blacharska\n",
      "blacharska [51.0821011300, 16.9896025300]\n",
      "matching: kazimierza wielkiego\n",
      "matched address: kazimierza wielkiego\n",
      "kazimierza wielkiego [51.1083233, 17.0283537]\n",
      "matching: wrocławska\n",
      "matched stop: inowrocławska\n",
      "inowrocławska [51.1155868600, 51.1155868600]\n",
      "matching: bardzka\n",
      "found stop: bardzka\n",
      "bardzka [51.0825577700, 17.0493748100]\n",
      "matching: piaskowej\n",
      "matched address: piaskowa\n",
      "piaskowa [51.1118691, 17.0392861]\n",
      "matching: blacharska\n",
      "found stop: blacharska\n",
      "blacharska [51.0821011300, 16.9896025300]\n",
      "matching: kazimierza wielkiego\n",
      "matched address: kazimierza wielkiego\n",
      "kazimierza wielkiego [51.1083233, 17.0283537]\n",
      "matching: piłsudskiego\n",
      "found stop: piłsudskiego\n",
      "piłsudskiego [51.1018217400, 17.0247599100]\n",
      "matching: most zwierzyniecki\n",
      "matched address: most zwierzyniecki\n",
      "most zwierzyniecki [51.1081863, 17.0697740105918]\n",
      "matching: osiedla swojczyce\n",
      "Error finding address: osiedla swojczyce\n",
      "matching: olimpia port\n",
      "Error finding address: olimpia port\n",
      "matching: wrocław sołtysowice\n",
      "Error finding address: wrocław sołtysowice\n",
      "matching: jelcz miłoszyce\n",
      "Error finding address: jelcz miłoszyce\n",
      "matching: wrocław swojczyce\n",
      "Error finding address: wrocław swojczyce\n",
      "matching: wrocław wojnów\n",
      "Error finding address: wrocław wojnów\n",
      "matching: radą osiedla strachocin\n",
      "Error finding address: radą osiedla strachocin\n",
      "matching: swojczyce\n",
      "found stop: swojczyce\n",
      "swojczyce [51.1147904000, 17.1281076700]\n"
     ]
    }
   ],
   "source": [
    "for text in facebook_texts[100:150]:\n",
    "    groups = find_groups(text)\n",
    "    result = parse_groups(groups)\n",
    "    if result is None:\n",
    "        print(\"Error parsing post:\", text)\n",
    "        print(\"Debug\", groups)\n",
    "    else:\n",
    "        print(result)"
   ]
  }
 ],
 "metadata": {
  "colab": {
   "collapsed_sections": [],
   "name": "SMA_Address_Localization.ipynb",
   "provenance": []
  },
  "kernelspec": {
   "display_name": "Python 3",
   "language": "python",
   "name": "python3"
  },
  "language_info": {
   "codemirror_mode": {
    "name": "ipython",
    "version": 3
   },
   "file_extension": ".py",
   "mimetype": "text/x-python",
   "name": "python",
   "nbconvert_exporter": "python",
   "pygments_lexer": "ipython3",
   "version": "3.7.4"
  }
 },
 "nbformat": 4,
 "nbformat_minor": 1
}
